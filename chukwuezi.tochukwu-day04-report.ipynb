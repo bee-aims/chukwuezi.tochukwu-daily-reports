{
  "cells": [
    {
      "cell_type": "markdown",
      "metadata": {
        "colab_type": "text",
        "id": "view-in-github"
      },
      "source": [
        "<a href=\"https://colab.research.google.com/github/ai-technipreneurs/python_course_colab_notebooks/blob/main/03_Lecture03.ipynb\" target=\"_parent\"><img src=\"https://colab.research.google.com/assets/colab-badge.svg\" alt=\"Open In Colab\"/></a>"
      ]
    },
    {
      "cell_type": "markdown",
      "metadata": {
        "id": "Sl7yf48Pcdd2"
      },
      "source": [
        "<center>\n",
        "    <a href=\"https://aims-senegal.org/\" ><img src=\"images/logoaimssn.jpeg\" style=\"float:left; max-width: 650px; display: inline\" alt=\"AIMS-SN\"/> </a>\n",
        "    </center>\n",
        "\n",
        "\n",
        "\n",
        "<center>\n",
        "    \n",
        "<a href=\"https://acas-yde.org/\" ><img src=\"images/logo-ACAS.jpg\" style=\"float:right; max-width: 250px; display: inline\" alt=\"ACAS\"/></a>\n",
        "    \n",
        "</center>\n"
      ]
    },
    {
      "cell_type": "markdown",
      "metadata": {
        "id": "3Sts8Q9ucdd5"
      },
      "source": [
        "****\n",
        "\n",
        "# <center> <b> <span style=\"color:orange;\"> Python Proficiency for Scientific Computing and Data Science (PyPro-SCiDaS)  </span> </b></center>\n",
        "\n",
        "### <center> <b> <span style=\"color:green;\">An Initiation to Programming using Python (Init2Py) </span> </b></center>\n",
        "    \n"
      ]
    },
    {
      "cell_type": "markdown",
      "metadata": {
        "id": "b_S3coZUcdd5"
      },
      "source": [
        "****\n",
        "\n",
        "# <center> <b> <span style=\"color:blue;\"> Lecture 3: Iterable Objects or Containers</span> </b></center>\n",
        "\n",
        "<!--NAVIGATION-->\n",
        "<  [2.Variables and assignements](02.Lecture02.ipynb)| [ToC](Index.ipynb) | [4.Flow control](04.Lecture04.ipynb)>\n",
        "\n",
        "****"
      ]
    },
    {
      "cell_type": "markdown",
      "metadata": {
        "id": "6TA2xbREcdd5"
      },
      "source": [
        "\n",
        "### <left> <b> <span style=\"color:brown;\">Instructeur : </span> </b></left>[Yaé Ulrich Gaba](https://github.com/gabayae)\n",
        "\n",
        "> **Summary:** This lecture aims to present `strings`, reviewing some of the most commonly encountered operations, particularly in text processing tasks. We will also examine the string class in greater detail, including how to use the `open()` function to open, read, and write to `files`.\n",
        "\n",
        "****"
      ]
    },
    {
      "cell_type": "markdown",
      "metadata": {
        "id": "Qzj3TVwGcdd5"
      },
      "source": [
        "As mentioned in previous sections, a Python program always operates based on the manipulation of objects. The instructions (whether defined in a free code, within an if clause, or in a while or for loop) are always executed on objects. Variables, as previously discussed, represent a particular type of Python object. In general, instructions in a Python program are defined from a collection of objects that come in various forms of value sequences. This sequence of values can, for example, consist of a set of variables with a single value. This ultimately means that a variable defined by a single value is generally not sufficient to form the architecture of a program. In the Python language, we have:\n",
        "\n",
        "   - A **list** object is a sequence of values (numerical and/or characters) that are **indexed** and specified within **square brackets**, separated by commas. Example:\n",
        "      ```python\n",
        "         x = [1, 5, 8, 10, 4, 50, 8] # List consisting only of numbers\n",
        "         y = [\"Olivier\", \"ENGEL\", \"Strasbourg\"] # List consisting only of characters\n",
        "         z = [1, \"Olivier\", 5, 8, \"ENGEL\", 10, 4, 50, \"Strasbourg\"] # List consisting of both numbers and characters.\n",
        "       \n",
        "      ```\n",
        "     A list object can be generated manually by specifying the values within square brackets or automatically using the `list()` function.\n",
        "      ```python\n",
        "        x = list(range(1, 10))\n",
        "        print(x) # returns [1, 2, 3, 4, 5, 6, 7, 8, 9]\n",
        "     ```\n",
        "   - A **tuple** object is a sequence of values (numerical and/or characters) that are **indexed** and specified within **parentheses**, separated by commas. Example:\n",
        "      ```python\n",
        "         x = (1, 5, 8, 10, 4, 50, 8) # Tuple consisting only of numbers\n",
        "         y = (\"Olivier\", \"ENGEL\", \"Strasbourg\") # Tuple consisting only of characters\n",
        "         z = (1, \"Olivier\", 5, 8, \"ENGEL\", 10, 4, 50, \"Strasbourg\") # Tuple consisting of both numbers and characters.\n",
        "       \n",
        "      ```\n",
        "     A tuple object can be generated manually by specifying the values within parentheses or automatically using the `tuple()` function.\n",
        "      ```python\n",
        "        x = tuple(range(1, 10))\n",
        "        print(x) # returns (1, 2, 3, 4, 5, 6, 7, 8, 9)\n",
        "     ```\n",
        "     \n",
        "   - A **set** object is a sequence of values (numerical and/or characters) that are **non-duplicated** and **non-indexed**, and specified within **curly braces**, separated by commas. Example:\n",
        "      ```python\n",
        "         x = {1, 5, 8, 10, 4, 50, 8} # Set consisting only of numbers\n",
        "         y = {\"Olivier\", \"ENGEL\", \"Strasbourg\"} # Set consisting only of characters\n",
        "         z = {1, \"Olivier\", 5, 8, \"ENGEL\", 10, 4, 50, \"Strasbourg\"} # Set consisting of both numbers and characters.\n",
        "       \n",
        "      ```\n",
        "     A set object can be generated manually by specifying the values within curly braces or automatically using the `set()` function.\n",
        "      ```python\n",
        "         v = [2, 4, \"orange\", \"meat\", 4, \"orange\"]\n",
        "         V = set(v)\n",
        "         print(V) # returns {2, 'orange', 4, 'meat'}\n",
        "      \n",
        "      ```\n",
        "   - A **dictionary** object is a sequence of values (numerical and/or characters) that are **indexed** by keys and specified within **curly braces**, separated by commas. Each `key` corresponds to one or more `values`. A dictionary consists of a set of `key-value` pairs. Example:   \n",
        "      ```python\n",
        "         x = {'name': 'Jean', 'weight': 70, 'height': 1.75} # Keys with unique values.\n",
        "         y = {'Jean': [25, 70, 1.75], 'Paul': [30, 65, 1.80], 'Pierre': [35, 75, 1.65]} # Key with multiple values formed by a list\n",
        "      \n",
        "      ```\n",
        "   In the dictionary `x`, the keys are name, weight, and height. The values corresponding to each of these keys are Jean, 70, and 1.75, respectively.\n",
        "In the dictionary `y`, the keys are Jean, Paul, and Pierre, while the values are lists consisting of three elements (age, weight, and height).\n",
        "A dictionary object can be generated manually by specifying the values within curly braces or automatically using the `dict()` function to create an empty dictionary. We will delve more into the definition of dictionaries later.\n",
        "\n",
        "The four objects we have just mentioned are also what we call `containers` simply because they `can contain` something. Thus, strings, lists, tuples, and dictionaries are the basic iterable objects in Python. Lists and dictionaries are mutable – their elements can be changed on the fly – while strings and tuples are immutable.\n",
        "\n",
        "The following three objects we mention are not iterable, but we will study them in more detail later on.\n",
        "\n",
        "   - A **function** object is a program designed to perform a specific operation. For example, the `print()` function is used to display the result of the instruction provided to it on the screen;\n",
        "   - A **class** object is a collection of functions, that is, an association of related functions;\n",
        "   - A **module** object is a collection of classes, that is, a collection of related classes.\""
      ]
    },
    {
      "cell_type": "markdown",
      "metadata": {
        "id": "oR5xd2KWcdd6"
      },
      "source": [
        "## 0. Lists\n",
        "\n",
        "\n",
        "### 0.0. Definition of a list object\n",
        "\n",
        "A list object can be declared and defined manually or by using the `list()` function. There are two categories of lists: one-dimensional lists (or simple lists) and multi-dimensional lists.\n",
        "\n",
        "- A simple list is a list whose elements consist of unique values separated by commas."
      ]
    },
    {
      "cell_type": "code",
      "execution_count": 1,
      "metadata": {
        "id": "0kMRqpqAcdd6"
      },
      "outputs": [
        {
          "name": "stdout",
          "output_type": "stream",
          "text": [
            "[-2.0, -1.0, 0.0, 1.0, 2.0]\n",
            "============================= \n",
            "\n",
            "[-1.0, -0.5, 0.0, 0.5, 1.0]\n"
          ]
        }
      ],
      "source": [
        "voltage = [-2.0, -1.0, 0.0, 1.0, 2.0]\n",
        "\n",
        "courant = [-1.0, -0.5, 0.0, 0.5, 1.0]\n",
        "\n",
        "print(voltage)\n",
        "print(\"============================= \\n\")\n",
        "print(courant)"
      ]
    },
    {
      "cell_type": "code",
      "execution_count": 4,
      "metadata": {
        "id": "bgqaqmGQcdd6"
      },
      "outputs": [
        {
          "data": {
            "text/plain": [
              "list"
            ]
          },
          "execution_count": 4,
          "metadata": {},
          "output_type": "execute_result"
        }
      ],
      "source": [
        "type(voltage) # Returns the type of the variable 'courant'"
      ]
    },
    {
      "cell_type": "code",
      "execution_count": 5,
      "metadata": {
        "id": "EqIvicfRcdd7"
      },
      "outputs": [
        {
          "data": {
            "text/plain": [
              "list"
            ]
          },
          "execution_count": 5,
          "metadata": {},
          "output_type": "execute_result"
        }
      ],
      "source": [
        "type(courant)"
      ]
    },
    {
      "cell_type": "code",
      "execution_count": 6,
      "metadata": {
        "id": "pRSc2Du6cdd7"
      },
      "outputs": [
        {
          "name": "stdout",
          "output_type": "stream",
          "text": [
            "Help on NoneType object:\n",
            "\n",
            "class NoneType(object)\n",
            " |  Methods defined here:\n",
            " |  \n",
            " |  __bool__(self, /)\n",
            " |      True if self else False\n",
            " |  \n",
            " |  __repr__(self, /)\n",
            " |      Return repr(self).\n",
            " |  \n",
            " |  ----------------------------------------------------------------------\n",
            " |  Static methods defined here:\n",
            " |  \n",
            " |  __new__(*args, **kwargs) from builtins.type\n",
            " |      Create and return a new object.  See help(type) for accurate signature.\n",
            "\n"
          ]
        }
      ],
      "source": [
        "help(voltage.sort())"
      ]
    },
    {
      "cell_type": "code",
      "execution_count": 10,
      "metadata": {},
      "outputs": [
        {
          "data": {
            "text/plain": [
              "[-2.0, -1.0, 0.0, 1.0, 2.0, 3.0]"
            ]
          },
          "execution_count": 10,
          "metadata": {},
          "output_type": "execute_result"
        }
      ],
      "source": [
        "voltage.append(3.0)\n",
        "voltage"
      ]
    },
    {
      "cell_type": "code",
      "execution_count": 11,
      "metadata": {},
      "outputs": [
        {
          "data": {
            "text/plain": [
              "[-2.0, -1.0, 0.0, 1.0, 2.0, 3.0]"
            ]
          },
          "execution_count": 11,
          "metadata": {},
          "output_type": "execute_result"
        }
      ],
      "source": [
        "voltage"
      ]
    },
    {
      "cell_type": "code",
      "execution_count": 12,
      "metadata": {},
      "outputs": [
        {
          "data": {
            "text/plain": [
              "[-2.0, -1.0, 0.0, 1.0, 2.0, 3.0]"
            ]
          },
          "execution_count": 12,
          "metadata": {},
          "output_type": "execute_result"
        }
      ],
      "source": [
        "voltage.sort()\n",
        "voltage"
      ]
    },
    {
      "cell_type": "markdown",
      "metadata": {
        "id": "6LZ8gTtUcdd7"
      },
      "source": [
        "Moreover, in some situations, you may first create an empty list which will later be filled with values using the `append()` function. To create an empty list, you can use:\n",
        "`x = list()` or `x = []`."
      ]
    },
    {
      "cell_type": "code",
      "execution_count": 13,
      "metadata": {},
      "outputs": [],
      "source": [
        "empty_list = list()\n",
        "empty_list2 = []"
      ]
    },
    {
      "cell_type": "code",
      "execution_count": 14,
      "metadata": {},
      "outputs": [
        {
          "name": "stdout",
          "output_type": "stream",
          "text": [
            "<class 'list'> <class 'list'>\n"
          ]
        }
      ],
      "source": [
        "print(type(empty_list), type(empty_list2))"
      ]
    },
    {
      "cell_type": "markdown",
      "metadata": {
        "id": "jQQPxWqPcdd7"
      },
      "source": [
        "- Unlike a simple list, a multi-dimensional list is a list where the individual elements consist of multiple values. In general, a multi-dimensional list is presented as a list of lists."
      ]
    },
    {
      "cell_type": "code",
      "execution_count": null,
      "metadata": {},
      "outputs": [],
      "source": []
    },
    {
      "cell_type": "code",
      "execution_count": 15,
      "metadata": {
        "id": "O5u5hVpxcdd8"
      },
      "outputs": [
        {
          "data": {
            "text/plain": [
              "([[1, 2, 3], [2, 3, 4], [3, 4, 5]], [[[1, 2], [2, 3]], [[4, 5], [5, 6]]])"
            ]
          },
          "execution_count": 15,
          "metadata": {},
          "output_type": "execute_result"
        }
      ],
      "source": [
        "x = [[1,2,3],[2,3,4],[3,4,5]] # liste à deux dimensions (liste de listes)\n",
        "\n",
        "y = [[[1,2],[2,3]],[[4,5],[5,6]]] # liste à trois dimensions (liste de listes de listes)\n",
        "\n",
        "x,y"
      ]
    },
    {
      "cell_type": "code",
      "execution_count": 17,
      "metadata": {},
      "outputs": [
        {
          "name": "stdout",
          "output_type": "stream",
          "text": [
            "<class 'list'>\n"
          ]
        }
      ],
      "source": [
        "\n",
        "type(x)\n",
        "# print(type(x))"
      ]
    },
    {
      "cell_type": "markdown",
      "metadata": {
        "id": "EJ7B7x5pcdd8"
      },
      "source": [
        "Since a list is a sequence of indexed values, you can access each value or groups of values by specifying their index:"
      ]
    },
    {
      "cell_type": "code",
      "execution_count": 2,
      "metadata": {
        "id": "551AEYJLcdd8"
      },
      "outputs": [
        {
          "name": "stdout",
          "output_type": "stream",
          "text": [
            "['Monday', 'Tuesday', 'Wednesday', 1800, 20.357, 'Thursday', 'Friday']\n"
          ]
        }
      ],
      "source": [
        "x = list(['Monday', 'Tuesday', 'Wednesday', 1800, 20.357, 'Thursday', 'Friday']) # Definition of a list\n",
        "print(x) # Displays all the elements of the list x"
      ]
    },
    {
      "cell_type": "code",
      "execution_count": 3,
      "metadata": {
        "id": "wRi1Ybxhcdd8"
      },
      "outputs": [
        {
          "name": "stdout",
          "output_type": "stream",
          "text": [
            "Monday\n",
            "================================================\n",
            "\t\n"
          ]
        }
      ],
      "source": [
        "print(x[0]) # Returns the first element of x: 'Monday' (Note: indexing starts at 0)\n",
        "print(\"================================================\")\n",
        "print('\\t')\n"
      ]
    },
    {
      "cell_type": "code",
      "execution_count": 4,
      "metadata": {},
      "outputs": [
        {
          "name": "stdout",
          "output_type": "stream",
          "text": [
            "1800\n",
            "================================================\n",
            "\t\n"
          ]
        }
      ],
      "source": [
        "\n",
        "print(x[3]) # Returns the element at index 3 (fourth element of x): 1800\n",
        "print(\"================================================\")\n",
        "print('\\t')\n"
      ]
    },
    {
      "cell_type": "code",
      "execution_count": 5,
      "metadata": {},
      "outputs": [
        {
          "name": "stdout",
          "output_type": "stream",
          "text": [
            "['Tuesday', 'Wednesday']\n",
            "================================================\n",
            "\t\n"
          ]
        }
      ],
      "source": [
        "\n",
        "\n",
        "print(x[1:3]) # Returns all elements between index 1 and index 3 (Note: element at index 3 is excluded)\n",
        "print(\"================================================\")\n",
        "print('\\t')\n",
        "\n"
      ]
    },
    {
      "cell_type": "code",
      "execution_count": 6,
      "metadata": {},
      "outputs": [
        {
          "name": "stdout",
          "output_type": "stream",
          "text": [
            "['Tuesday', 1800, 'Thursday']\n",
            "================================================\n",
            "\t\n"
          ]
        }
      ],
      "source": [
        "print(x[1:6:2]) # Returns all elements between index 1 and index 6 with a step of 2 elements each time ['Tuesday', 1800, 'Thursday'] (element at index 6 is excluded).\n",
        "print(\"================================================\")\n",
        "print('\\t')\n",
        "\n"
      ]
    },
    {
      "cell_type": "code",
      "execution_count": 7,
      "metadata": {},
      "outputs": [
        {
          "name": "stdout",
          "output_type": "stream",
          "text": [
            "['Wednesday', 1800, 20.357, 'Thursday', 'Friday']\n",
            "================================================\n",
            "\t\n"
          ]
        }
      ],
      "source": [
        "print(x[2:]) # Returns all elements starting from index 2 (inclusive).\n",
        "print(\"================================================\")\n",
        "print('\\t')\n",
        "\n"
      ]
    },
    {
      "cell_type": "code",
      "execution_count": 8,
      "metadata": {},
      "outputs": [
        {
          "name": "stdout",
          "output_type": "stream",
          "text": [
            "['Monday', 'Tuesday', 'Wednesday']\n",
            "================================================\n",
            "\t\n"
          ]
        }
      ],
      "source": [
        "print(x[:3]) # Returns all elements up to but not including index 3\n",
        "print(\"================================================\")\n",
        "print('\\t')\n",
        "\n"
      ]
    },
    {
      "cell_type": "code",
      "execution_count": 9,
      "metadata": {},
      "outputs": [
        {
          "name": "stdout",
          "output_type": "stream",
          "text": [
            "Friday\n",
            "================================================\n",
            "\t\n"
          ]
        }
      ],
      "source": [
        "print(x[-1]) # Negative indexing, returns the last element of the list (equivalent to x[6])\n",
        "print(\"================================================\")\n",
        "print('\\t')\n",
        "\n"
      ]
    },
    {
      "cell_type": "code",
      "execution_count": 10,
      "metadata": {},
      "outputs": [
        {
          "name": "stdout",
          "output_type": "stream",
          "text": [
            "Thursday\n",
            "================================================\n",
            "\t\n"
          ]
        }
      ],
      "source": [
        "print(x[-2]) # Negative indexing, returns the second to last element of the list (equivalent to x[5])\n",
        "print(\"================================================\")\n",
        "print('\\t')\n",
        "\n"
      ]
    },
    {
      "cell_type": "code",
      "execution_count": 11,
      "metadata": {},
      "outputs": [
        {
          "name": "stdout",
          "output_type": "stream",
          "text": [
            "['Monday', 'Wednesday', 20.357, 'Friday']\n",
            "================================================\n",
            "\t\n"
          ]
        }
      ],
      "source": [
        "print(x[::2]) # Iterates through all elements between index 0 and the last index, returning every second element ['Monday', 'Wednesday', 20.357, 'Friday'].\n",
        "print(\"================================================\")\n",
        "print('\\t')\n",
        "\n"
      ]
    },
    {
      "cell_type": "code",
      "execution_count": 12,
      "metadata": {},
      "outputs": [
        {
          "name": "stdout",
          "output_type": "stream",
          "text": [
            "['Friday', 'Thursday', 20.357, 1800, 'Wednesday', 'Tuesday', 'Monday']\n"
          ]
        }
      ],
      "source": [
        "\n",
        "print(x[::-1]) # Returns a list containing all elements of x, rearranged from the last element to the first. This is a reverse of x. Returns ['Friday', 'Thursday', 20.357, 1800, 'Wednesday', 'Tuesday', 'Monday'].\n",
        "# The same result can be obtained by using x.reverse()\n",
        "x_rev = x.reverse()\n",
        "x_rev\n"
      ]
    },
    {
      "cell_type": "code",
      "execution_count": null,
      "metadata": {
        "id": "liqpPwahcdd8"
      },
      "outputs": [],
      "source": [
        "With a multi-dimensional list, indexing is done at multiple levels. For example"
      ]
    },
    {
      "cell_type": "code",
      "execution_count": 13,
      "metadata": {
        "id": "_uveKCXTcdd8"
      },
      "outputs": [
        {
          "name": "stdout",
          "output_type": "stream",
          "text": [
            "[[1, 2, 3], [2, 3, 4], [3, 4, 5]]\n",
            "================================================\n",
            "\t\n"
          ]
        }
      ],
      "source": [
        "x = [[1, 2, 3], [2, 3, 4], [3, 4, 5]]\n",
        "print(x)\n",
        "print(\"================================================\")\n",
        "print('\\t')\n",
        "\n"
      ]
    },
    {
      "cell_type": "code",
      "execution_count": 14,
      "metadata": {},
      "outputs": [
        {
          "name": "stdout",
          "output_type": "stream",
          "text": [
            "[1, 2, 3]\n",
            "================================================\n",
            "\t\n"
          ]
        }
      ],
      "source": [
        "\n",
        "print(x[0]) # Returns the first sublist [1, 2, 3]\n",
        "print(\"================================================\")\n",
        "print('\\t')\n"
      ]
    },
    {
      "cell_type": "code",
      "execution_count": 15,
      "metadata": {},
      "outputs": [
        {
          "name": "stdout",
          "output_type": "stream",
          "text": [
            "1\n",
            "================================================\n",
            "\t\n"
          ]
        }
      ],
      "source": [
        "\n",
        "print(x[0][0]) # Returns the first element of the first sublist, which is 1\n",
        "print(\"================================================\")\n",
        "print('\\t')\n"
      ]
    },
    {
      "cell_type": "code",
      "execution_count": 16,
      "metadata": {},
      "outputs": [
        {
          "name": "stdout",
          "output_type": "stream",
          "text": [
            "[3, 4, 5]\n",
            "================================================\n",
            "\t\n"
          ]
        }
      ],
      "source": [
        "\n",
        "print(x[2]) # Returns the third sublist [3, 4, 5]\n",
        "print(\"================================================\")\n",
        "print('\\t')\n"
      ]
    },
    {
      "cell_type": "code",
      "execution_count": 17,
      "metadata": {},
      "outputs": [
        {
          "name": "stdout",
          "output_type": "stream",
          "text": [
            "4\n",
            "================================================\n",
            "\t\n"
          ]
        }
      ],
      "source": [
        "\n",
        "print(x[2][1]) # Returns the element at index 1 of the third sublist, which is 4\n",
        "print(\"================================================\")\n",
        "print('\\t')\n"
      ]
    },
    {
      "cell_type": "code",
      "execution_count": 18,
      "metadata": {},
      "outputs": [
        {
          "name": "stdout",
          "output_type": "stream",
          "text": [
            "[[2, 3, 4], [3, 4, 5]]\n",
            "================================================\n",
            "\t\n"
          ]
        }
      ],
      "source": [
        "\n",
        "print(x[1:]) # Returns all sublists starting from index 1: [[2, 3, 4], [3, 4, 5]]\n",
        "print(\"================================================\")\n",
        "print('\\t')\n"
      ]
    },
    {
      "cell_type": "code",
      "execution_count": 19,
      "metadata": {},
      "outputs": [
        {
          "name": "stdout",
          "output_type": "stream",
          "text": [
            "[2, 3, 4]\n",
            "================================================\n",
            "\t\n"
          ]
        }
      ],
      "source": [
        "\n",
        "print(x[1:][0]) # Returns the first sublist from the sliced list: [2, 3, 4]\n",
        "print(\"================================================\")\n",
        "print('\\t')\n"
      ]
    },
    {
      "cell_type": "code",
      "execution_count": 20,
      "metadata": {},
      "outputs": [
        {
          "name": "stdout",
          "output_type": "stream",
          "text": [
            "[3, 4, 5]\n",
            "================================================\n",
            "\t\n"
          ]
        }
      ],
      "source": [
        "\n",
        "print(x[-1]) # Returns the last sublist [3, 4, 5]\n",
        "print(\"================================================\")\n",
        "print('\\t')\n"
      ]
    },
    {
      "cell_type": "code",
      "execution_count": 21,
      "metadata": {},
      "outputs": [
        {
          "name": "stdout",
          "output_type": "stream",
          "text": [
            "[2, 3]\n",
            "================================================\n",
            "\t\n"
          ]
        }
      ],
      "source": [
        "\n",
        "print(x[1][:2]) # Returns the first two elements of the second sublist: [2, 3]\n",
        "print(\"================================================\")\n",
        "print('\\t')\n"
      ]
    },
    {
      "cell_type": "code",
      "execution_count": null,
      "metadata": {},
      "outputs": [],
      "source": [
        "\n",
        "print(x[1][1:]) # Returns elements from index 1 to the end of the second sublist: [3, 4]\n"
      ]
    },
    {
      "cell_type": "markdown",
      "metadata": {
        "id": "K3oKzhVlcdd9"
      },
      "source": [
        "### 0.1. The `range()` Function\n",
        "\n",
        "Value sequences are variables that are frequently encountered in Python programs. They represent a set of successive and ordered values that can be extracted like a list. Value sequences are generated using the `range()` function.\n",
        "\n",
        "The function has the following syntax:\n",
        "\n",
        "```python\n",
        "range(start, stop, step)\n",
        "```\n",
        "\n",
        " - start (optional): The value of the first number in the sequence. If omitted, the sequence starts from 0.\n",
        " - stop: The end of the sequence. This value is not included in the sequence.\n",
        " - step (optional): The difference between each pair of consecutive values in the sequence. If omitted, the default step is 1.\n",
        "\n",
        "Example:"
      ]
    },
    {
      "cell_type": "code",
      "execution_count": 23,
      "metadata": {
        "id": "DBeFeHX9cdd9"
      },
      "outputs": [
        {
          "name": "stdout",
          "output_type": "stream",
          "text": [
            "range(0, 10)\n",
            "================================================\n",
            "\t\n",
            "range(2, 10)\n",
            "================================================\n",
            "\t\n",
            "range(1, 10, 2)\n"
          ]
        }
      ],
      "source": [
        "x = range(10) # Creates a sequence of integer values from 0 to 9\n",
        "print(x)\n",
        "print(\"================================================\")\n",
        "print('\\t')\n",
        "\n",
        "x = range(2, 10) # Creates a sequence of integer values from 2 to 9\n",
        "print(x)\n",
        "print(\"================================================\")\n",
        "print('\\t')\n",
        "\n",
        "x = range(1, 10, 2) # Creates a sequence of integer values from 1 to 9 with a step of 2. It returns 1, 3, 5, 7, and 9\n",
        "print(x)\n"
      ]
    },
    {
      "cell_type": "code",
      "execution_count": null,
      "metadata": {
        "id": "ktGIfPN7cdd9"
      },
      "outputs": [],
      "source": [
        "To display the generated values, you can use the `list()` function, as shown below:"
      ]
    },
    {
      "cell_type": "code",
      "execution_count": 24,
      "metadata": {
        "id": "dckRSZZPcdd9"
      },
      "outputs": [
        {
          "name": "stdout",
          "output_type": "stream",
          "text": [
            "[0, 1, 2, 3, 4, 5, 6, 7, 8, 9]\n"
          ]
        }
      ],
      "source": [
        "x = range(10)\n",
        "\n",
        "print(list(x)) # Returns a list: values in square brackets [0, 1, 2, 3, 4, 5, 6, 7, 8, 9]\n"
      ]
    },
    {
      "cell_type": "markdown",
      "metadata": {
        "id": "HFiucPAOcdd9"
      },
      "source": [
        "### 0.2. Operations on Lists\n",
        "\n",
        "Once a list is defined, several operations can be performed to modify its structure or its elements.\n",
        "\n",
        "- To find the number of elements in a list, we use the `len()` function. Example: consider the list `x` defined as follows:\n",
        "```python\n",
        "   x = ['Monday', 'Tuesday', 'Wednesday', 1800, 20.357, 'Thursday', 'Friday']\n",
        "```\n",
        "To find the length of `x` (the number of elements in `x`), we do:\n",
        "```python\n",
        "    print(len(x)) # returns 7\n",
        "```"
      ]
    },
    {
      "cell_type": "code",
      "execution_count": 25,
      "metadata": {
        "id": "h2_n65Pmcdd9"
      },
      "outputs": [
        {
          "name": "stdout",
          "output_type": "stream",
          "text": [
            "7\n"
          ]
        }
      ],
      "source": [
        "x = ['Monday', 'Tuesday', 'Wednesday', 1800, 20.357, 'Thursday', 'Friday']\n",
        "print(len(x)) # returns 7"
      ]
    },
    {
      "cell_type": "markdown",
      "metadata": {
        "id": "5ZjlYMqScdd9"
      },
      "source": [
        "- We can concatenate two lists to form a single list using the `+` operator, which allows for list concatenation:\n",
        "```python\n",
        "   x = ['giraffe', 'tiger']\n",
        "   y = ['monkey', 'mouse']\n",
        "   z = x + y\n",
        "   print(z) # returns ['giraffe', 'tiger', 'monkey', 'mouse']\n",
        "```"
      ]
    },
    {
      "cell_type": "code",
      "execution_count": 26,
      "metadata": {
        "id": "0DKS7aRPcdd9"
      },
      "outputs": [
        {
          "name": "stdout",
          "output_type": "stream",
          "text": [
            "['giraffe', 'tiger', 'monkey', 'mouse']\n"
          ]
        }
      ],
      "source": [
        "x = ['giraffe', 'tiger']\n",
        "y = ['monkey', 'mouse']\n",
        "z = x + y\n",
        "print(z) # returns ['giraffe', 'tiger', 'monkey', 'mouse']"
      ]
    },
    {
      "cell_type": "markdown",
      "metadata": {
        "id": "Aj5pjpAKcdd9"
      },
      "source": [
        "- We can repeat the elements of a list using the multiplication operator `*`:\n",
        "```python\n",
        "    x = ['giraffe', 24, 18, 'tiger', 2400, 150]\n",
        "    y = x * 3\n",
        "    print(y) # returns ['giraffe', 24, 18, 'tiger', 2400, 150, 'giraffe', 24, 18, 'tiger', 2400, 150, 'giraffe', 24, 18, 'tiger', 2400, 150]\n",
        "```"
      ]
    },
    {
      "cell_type": "code",
      "execution_count": 27,
      "metadata": {
        "id": "ernWSb38cdd9"
      },
      "outputs": [
        {
          "name": "stdout",
          "output_type": "stream",
          "text": [
            "['giraffe', 24, 18, 'tiger', 2400, 150, 'giraffe', 24, 18, 'tiger', 2400, 150, 'giraffe', 24, 18, 'tiger', 2400, 150]\n"
          ]
        }
      ],
      "source": [
        "x = ['giraffe', 24, 18, 'tiger', 2400, 150]\n",
        "y = x * 3\n",
        "print(y) # returns ['giraffe', 24, 18, 'tiger', 2400, 150, 'giraffe', 24, 18,\n",
        "         # 'tiger', 2400, 150, 'giraffe', 24, 18, 'tiger', 2400, 150]"
      ]
    },
    {
      "cell_type": "markdown",
      "metadata": {
        "id": "vU3qfylTcdd9"
      },
      "source": [
        "- It is possible to modify a particular element in a list by using its index:\n",
        "```python\n",
        "    x = ['Monday', 'Tuesday', 'Wednesday', 1800, 20.357, 'Thursday', 'Friday']\n",
        "    x[3] = x[3] + 100\n",
        "    print(x) # returns ['Monday', 'Tuesday', 'Wednesday', 1900, 20.357, 'Thursday', 'Friday']\n",
        "    \n",
        "    x[6] = x[6] + ' Saint' # Note the space in ' Saint', otherwise you'll get 'FridaySaint'.\n",
        "    print(x) # returns ['Monday', 'Tuesday', 'Wednesday', 1900, 20.357, 'Thursday', 'Friday Saint']\n",
        "```"
      ]
    },
    {
      "cell_type": "code",
      "execution_count": 28,
      "metadata": {
        "id": "7hHddn1Kcdd9"
      },
      "outputs": [
        {
          "name": "stdout",
          "output_type": "stream",
          "text": [
            "['Monday', 'Tuesday', 'Wednesday', 1900, 20.357, 'Thursday', 'Friday']\n",
            "==================================================================\n",
            "\n",
            "['Monday', 'Tuesday', 'Wednesday', 1900, 20.357, 'Thursday', 'Friday Saint']\n"
          ]
        }
      ],
      "source": [
        "x = ['Monday', 'Tuesday', 'Wednesday', 1800, 20.357, 'Thursday', 'Friday']\n",
        "x[3] = x[3] + 100\n",
        "print(x) # returns ['Monday', 'Tuesday', 'Wednesday', 1900, 20.357, 'Thursday', 'Friday']\n",
        "\n",
        "print(\"==================================================================\\n\")\n",
        "x[6] = x[6] + ' Saint' # Note the space in ' Saint', otherwise you'll get 'FridaySaint'.\n",
        "print(x) # returns ['Monday', 'Tuesday', 'Wednesday', 1900, 20.357, 'Thursday', 'Friday Saint']"
      ]
    },
    {
      "cell_type": "code",
      "execution_count": 35,
      "metadata": {},
      "outputs": [
        {
          "ename": "TypeError",
          "evalue": "'str' object does not support item assignment",
          "output_type": "error",
          "traceback": [
            "\u001b[1;31m---------------------------------------------------------------------------\u001b[0m",
            "\u001b[1;31mTypeError\u001b[0m                                 Traceback (most recent call last)",
            "Cell \u001b[1;32mIn[35], line 2\u001b[0m\n\u001b[0;32m      1\u001b[0m my_test_string \u001b[38;5;241m=\u001b[39m \u001b[38;5;124m\"\u001b[39m\u001b[38;5;124mAnystring\u001b[39m\u001b[38;5;124m\"\u001b[39m\n\u001b[1;32m----> 2\u001b[0m my_test_string[\u001b[38;5;241m3\u001b[39m] \u001b[38;5;241m=\u001b[39m my_test_string[\u001b[38;5;241m3\u001b[39m]\n",
            "\u001b[1;31mTypeError\u001b[0m: 'str' object does not support item assignment"
          ]
        }
      ],
      "source": [
        "my_test_string = \"Anystring\"\n",
        "my_test_string[3] = my_test_string[3]"
      ]
    },
    {
      "cell_type": "markdown",
      "metadata": {
        "id": "iF2px0lzcdd9"
      },
      "source": [
        "- New elements can be added in addition to the initial elements. For this, we use the `append()` function:\n",
        "```python\n",
        "    x = ['Monday', 'Tuesday', 'Wednesday', 'Thursday', 'Friday']\n",
        "    x.append('Saturday')\n",
        "    x.append('Sunday')\n",
        "    print(x)\n",
        "```"
      ]
    },
    {
      "cell_type": "code",
      "execution_count": 29,
      "metadata": {
        "id": "ezl-OgUPcdd9"
      },
      "outputs": [
        {
          "name": "stdout",
          "output_type": "stream",
          "text": [
            "['Monday', 'Tuesday', 'Wednesday', 'Thursday', 'Friday', 'Saturday', 'Sunday']\n"
          ]
        }
      ],
      "source": [
        "x = ['Monday', 'Tuesday', 'Wednesday', 'Thursday', 'Friday']\n",
        "x.append('Saturday')\n",
        "x.append('Sunday')\n",
        "print(x)"
      ]
    },
    {
      "cell_type": "markdown",
      "metadata": {
        "id": "S3PvC2Xacdd9"
      },
      "source": [
        "As we can see, the `append()` function can only add one element to a list at a time. Therefore, we can use the `extend()` function when we want to add multiple elements at once. Example:\n",
        "```python\n",
        "    x = ['Monday', 'Tuesday', 'Wednesday', 'Thursday', 'Friday']\n",
        "    x.extend(['Saturday', 'Sunday'])\n",
        "    print(x)\n",
        "```"
      ]
    },
    {
      "cell_type": "code",
      "execution_count": 36,
      "metadata": {
        "id": "ZbmR_RSvcdd_"
      },
      "outputs": [
        {
          "name": "stdout",
          "output_type": "stream",
          "text": [
            "['Monday', 'Tuesday', 'Wednesday', 'Thursday', 'Friday', 'Saturday', 'Sunday']\n"
          ]
        }
      ],
      "source": [
        "x = ['Monday', 'Tuesday', 'Wednesday', 'Thursday', 'Friday']\n",
        "x.extend(['Saturday', 'Sunday'])\n",
        "print(x)"
      ]
    },
    {
      "cell_type": "markdown",
      "metadata": {
        "id": "AAqBBOCzcdd_"
      },
      "source": [
        "****\n",
        "For further study, explore the following methods and how they operate on lists:\n",
        "`insert()`, `remove()`, `delete()`, `index()`, `count()`, `join()`, `zip()`.\n",
        "***"
      ]
    },
    {
      "cell_type": "markdown",
      "metadata": {},
      "source": [
        "### Defining a `test_list` to try these out"
      ]
    },
    {
      "cell_type": "code",
      "execution_count": 23,
      "metadata": {},
      "outputs": [],
      "source": [
        "test_list = [\"Man\", \"Woman\", \"Boy\", \"Girl\"]"
      ]
    },
    {
      "cell_type": "markdown",
      "metadata": {},
      "source": [
        "### `insert()`"
      ]
    },
    {
      "cell_type": "code",
      "execution_count": 105,
      "metadata": {},
      "outputs": [
        {
          "name": "stdout",
          "output_type": "stream",
          "text": [
            "['Man', 'Woman', 'someone', 'Boy', 'Girl']\n"
          ]
        }
      ],
      "source": [
        "# help(test_list.insert)\n",
        "test_list.insert(len(test_list)//2, \"someone\")\n",
        "print(test_list)"
      ]
    },
    {
      "cell_type": "markdown",
      "metadata": {},
      "source": [
        "### `remove()`"
      ]
    },
    {
      "cell_type": "code",
      "execution_count": 106,
      "metadata": {},
      "outputs": [
        {
          "name": "stdout",
          "output_type": "stream",
          "text": [
            "['Man', 'Woman', 'Boy', 'Girl']\n"
          ]
        }
      ],
      "source": [
        "# help(test_list.remove)\n",
        "test_list.remove(\"someone\") #removes 'someone'\n",
        "print(test_list)"
      ]
    },
    {
      "cell_type": "markdown",
      "metadata": {},
      "source": [
        "### `delete()`\n"
      ]
    },
    {
      "cell_type": "code",
      "execution_count": 22,
      "metadata": {},
      "outputs": [],
      "source": [
        "#delete doesn't works"
      ]
    },
    {
      "cell_type": "markdown",
      "metadata": {},
      "source": [
        "### `index()`"
      ]
    },
    {
      "cell_type": "code",
      "execution_count": 25,
      "metadata": {},
      "outputs": [
        {
          "data": {
            "text/plain": [
              "2"
            ]
          },
          "execution_count": 25,
          "metadata": {},
          "output_type": "execute_result"
        }
      ],
      "source": [
        "# help(test_list.index)\n",
        "test_list.index(\"Boy\")"
      ]
    },
    {
      "cell_type": "markdown",
      "metadata": {},
      "source": [
        "### `count()`"
      ]
    },
    {
      "cell_type": "code",
      "execution_count": 28,
      "metadata": {},
      "outputs": [
        {
          "data": {
            "text/plain": [
              "3"
            ]
          },
          "execution_count": 28,
          "metadata": {},
          "output_type": "execute_result"
        }
      ],
      "source": [
        "# help(test_list.count)\n",
        "test_list.append(\"Boy\")\n",
        "test_list.count(\"Boy\")"
      ]
    },
    {
      "cell_type": "markdown",
      "metadata": {},
      "source": [
        "### `join()`"
      ]
    },
    {
      "cell_type": "code",
      "execution_count": 32,
      "metadata": {},
      "outputs": [
        {
          "name": "stdout",
          "output_type": "stream",
          "text": [
            "Man Woman Boy Girl Boy Boy\n",
            "Man-Woman-Boy-Girl-Boy-Boy\n"
          ]
        }
      ],
      "source": [
        "print(\" \".join(test_list))\n",
        "print(\"-\".join(test_list))"
      ]
    },
    {
      "cell_type": "markdown",
      "metadata": {},
      "source": [
        "### `zip()`"
      ]
    },
    {
      "cell_type": "code",
      "execution_count": 37,
      "metadata": {},
      "outputs": [
        {
          "data": {
            "text/plain": [
              "[('Man', 'Man', 'Man'),\n",
              " ('Woman', 'Woman', 'Woman'),\n",
              " ('Boy', 'Boy', 'Boy'),\n",
              " ('Girl', 'Girl', 'Girl'),\n",
              " ('Boy', 'Boy', 'Boy'),\n",
              " ('Boy', 'Boy', 'Boy')]"
            ]
          },
          "execution_count": 37,
          "metadata": {},
          "output_type": "execute_result"
        }
      ],
      "source": [
        "# help(zip)\n",
        "list(zip(test_list, test_list, test_list))"
      ]
    },
    {
      "cell_type": "markdown",
      "metadata": {
        "id": "lNlLk0_7cdd_"
      },
      "source": [
        "<left> <b> <span style=\"color:brown;\">Given that their usage is quite uncommon, we will not cover `tuple` and `set` objects in this course. The brief presentation given above is relatively sufficient, and readers who explicitly need more information can consult the extensive documentation available online. </span> </b></left>\n",
        "\n",
        "However, we can mention that a `set` is an unordered iterable collection of distinct hashable elements and that classic mathematical operations on sets can be performed in Python. For example:"
      ]
    },
    {
      "cell_type": "markdown",
      "metadata": {
        "id": "TweFTZGacdd_"
      },
      "source": [
        "<center>\n",
        "    <img src=\"images/set.png\" width=\"20%></center>\n",
        "                              \n",
        "                   "
      ]
    },
    {
      "cell_type": "markdown",
      "metadata": {
        "id": "NIxoqg3ycdd_"
      },
      "source": [
        "```python\n",
        "   X, Y = set('abcd'), set('sbds')\n",
        "   print(\"X =\", X) # X = {'a', 'c', 'b', 'd'}\n",
        "   print(\"Y =\", Y) # Y = {'s', 'b', 'd'} : only one element 's'\n",
        "    \n",
        "   print('c' in X)  # True\n",
        "   print('a' in Y)  # False\n",
        "   print(X - Y)     # {'a', 'c'}\n",
        "   print(Y - X)     # {'s'}\n",
        "   print(X | Y)     # {'a', 'c', 'b', 'd', 's'}\n",
        "   print(X & Y)     # {'b', 'd'}\n",
        "```          "
      ]
    },
    {
      "cell_type": "code",
      "execution_count": 89,
      "metadata": {
        "id": "8GtNTpLRcdd_"
      },
      "outputs": [
        {
          "name": "stdout",
          "output_type": "stream",
          "text": [
            "X = {'c', 'b', 'd', 'a'}\n",
            "=========================================\n",
            "\n",
            "Y = {'b', 'd', 's'}\n",
            "=========================================\n",
            "\n",
            "True\n",
            "=========================================\n",
            "\n",
            "False\n",
            "=========================================\n",
            "\n",
            "{'c', 'a'}\n",
            "=========================================\n",
            "\n",
            "{'s'}\n",
            "=========================================\n",
            "\n",
            "{'c', 'b', 'd', 's', 'a'}\n",
            "=========================================\n",
            "\n",
            "{'b', 'd'}\n"
          ]
        }
      ],
      "source": [
        "X, Y = set('abcd'), set('sbds')\n",
        "print(\"X =\", X) # X = {'a', 'c', 'b', 'd'}\n",
        "print(\"=========================================\\n\")\n",
        "\n",
        "print(\"Y =\", Y) # Y = {'s', 'b', 'd'} : only one element 's'\n",
        "print(\"=========================================\\n\")\n",
        "\n",
        "print('c' in X)  # True\n",
        "print(\"=========================================\\n\")\n",
        "\n",
        "print('a' in Y)  # False\n",
        "print(\"=========================================\\n\")\n",
        "\n",
        "print(X - Y)     # {'a', 'c'}\n",
        "print(\"=========================================\\n\")\n",
        "\n",
        "print(Y - X)     # {'s'}\n",
        "print(\"=========================================\\n\")\n",
        "\n",
        "print(X | Y)     # {'a', 'c', 'b', 'd', 's'}\n",
        "print(\"=========================================\\n\")\n",
        "\n",
        "print(X & Y)     # {'b', 'd'}\n"
      ]
    },
    {
      "cell_type": "markdown",
      "metadata": {
        "id": "GS_PZ1b0cdd_"
      },
      "source": [
        "## 1. Dictionaries\n",
        "\n",
        "### 1.0. About dictionaries\n",
        "\n",
        "In Pythonic design, a dictionary (also called a map) is a versatile collection of objects that adheres to the `key-value` principle. Unlike lists, where elements are accessed by their position or index, dictionaries use unique keys to identify and retrieve values. These keys are typically strings but can also be other immutable types, such as numbers or tuples. This key-value structure allows for efficient lookups, additions, and deletions, making dictionaries a powerful tool for organizing and managing data in a more intuitive and flexible way compared to lists."
      ]
    },
    {
      "cell_type": "code",
      "execution_count": 37,
      "metadata": {
        "id": "N6BD-4cAcdeA"
      },
      "outputs": [],
      "source": [
        "x = {'name': 'Jean', 'age': 25, 'weight': 70, 'height': 1.75}\n",
        "y = {'Jean': [25, 70, 1.75], 'Paul': [30, 65, 1.80], 'Pierre': [35, 75, 1.65]}\n",
        "z = {'Jean': (25, 70, 1.75), 'Paul': (30, 65, 1.80), 'Pierre': (35, 75, 1.65)}\n",
        "k = {'name': 'Jean', 'biometrics': [25, 70, 1.75], 'score': (12, 17, 15), 'rank': 25}"
      ]
    },
    {
      "cell_type": "markdown",
      "metadata": {
        "id": "m8Mcg_EYcdeA"
      },
      "source": [
        "The four variables above represent **four** typical ways to define a dictionary. Variable `x` is a dictionary where the keys are **name, age, weight, and height**. The corresponding values are **Jean, 25, 70**, and **1.75**. In the definition of `x`, it is noted that each key corresponds to a unique value. However, it is very common to associate multiple values with a single key. This is the case with dictionary `y`."
      ]
    },
    {
      "cell_type": "markdown",
      "metadata": {
        "id": "lPLKTCK1cdeA"
      },
      "source": [
        "###  1.1. Operations on dictionaries\n",
        "\n",
        " - To access the elements of a dictionary, you use the keys. The method `keys()` returns the list of keys in the dictionary, and the method `values()` returns the values.\n",
        "  ```python\n",
        "     X = {'name': 'Jean', 'age': 25, 'weight': 70, 'height': 1.75}\n",
        "     print(X.keys())  # returns ['name', 'age', 'weight', 'height']\n",
        "     print(X.values()) # returns ['Jean', 25, 70, 1.75]   \n",
        "     print(X['name'])  # returns 'Jean'   \n",
        "     x = {'Jean': [25, 70, 1.75], 'Paul': [30, 65, 1.80], 'Pierre': [35, 75, 1.65]}\n",
        "     print(x['Jean']) # returns [25, 70, 1.75]\n",
        "     print(x['Jean'][0]) # returns 25\n",
        "     print(x['Jean'][0:2]) # returns [25, 70]   \n",
        "  ```"
      ]
    },
    {
      "cell_type": "code",
      "execution_count": 38,
      "metadata": {
        "id": "UXLlbFo7cdeA"
      },
      "outputs": [
        {
          "name": "stdout",
          "output_type": "stream",
          "text": [
            "=========================================\n",
            "\n",
            "dict_keys(['name', 'age', 'weight', 'height'])\n",
            "=========================================\n",
            "\n",
            "dict_values(['Jean', 25, 70, 1.75])\n",
            "=========================================\n",
            "\n",
            "Jean\n",
            "=========================================\n",
            "\n",
            "=========================================\n",
            "\n",
            "[25, 70, 1.75]\n",
            "=========================================\n",
            "\n",
            "25\n",
            "=========================================\n",
            "\n",
            "[25, 70]\n"
          ]
        }
      ],
      "source": [
        "X = {'name': 'Jean', 'age': 25, 'weight': 70, 'height': 1.75}\n",
        "print(\"=========================================\\n\")\n",
        "\n",
        "print(X.keys())  # returns ['name', 'age', 'weight', 'height']\n",
        "print(\"=========================================\\n\")\n",
        "\n",
        "print(X.values()) # returns ['Jean', 25, 70, 1.75]\n",
        "print(\"=========================================\\n\")\n",
        "\n",
        "print(X['name'])  # returns 'Jean'\n",
        "print(\"=========================================\\n\")\n",
        "\n",
        "x = {'Jean': [25, 70, 1.75], 'Paul': [30, 65, 1.80], 'Pierre': [35, 75, 1.65]}\n",
        "print(\"=========================================\\n\")\n",
        "\n",
        "print(x['Jean']) # returns [25, 70, 1.75]\n",
        "print(\"=========================================\\n\")\n",
        "\n",
        "print(x['Jean'][0]) # returns 25\n",
        "print(\"=========================================\\n\")\n",
        "\n",
        "print(x['Jean'][0:2]) # returns [25, 70]"
      ]
    },
    {
      "cell_type": "markdown",
      "metadata": {
        "id": "FHiDuMWkcdeA"
      },
      "source": [
        "- Adding or modifying keys or values: You can modify a dictionary by either changing existing keys and values or by adding new ones. You can also remove values as well as keys.\n",
        "\n",
        "```python\n",
        "  x = {} # Creates an empty dictionary. You could also use x = dict()\n",
        "  x['name'] = 'Jean' # Adds the key-value pair 'name' and 'Jean' to the initial dictionary x\n",
        "  x['biometrics'] = [25, 70, 1.75] # Adds the key-value pair 'biometrics' and [25, 70, 1.75] to dictionary x\n",
        "  x['biometrics'] = [30, 70, 1.80] # Modifies the values of the 'biometrics' key by redefining it\n",
        "  x['biometrics'][0] = 2 # Modifies the element at index 0 in the list of values corresponding to the 'biometrics' key (previously defined)\n",
        "\n",
        "  Y = {'Jean': [25, 70, 1.75], 'Paul': [30, 65, 1.80], 'Pierre': [35, 75, 1.65]}\n",
        "  del Y['Jean'] # Deletes the key 'Jean' and all its corresponding values\n",
        "  del Y['Paul'][0] # Deletes the element at index 0 in the value sequence corresponding to the key 'Paul'. For a key with a single value, use del x['keyName'] where 'keyName' is the name of the key with the single value.\n",
        "\n",
        "```"
      ]
    },
    {
      "cell_type": "code",
      "execution_count": 39,
      "metadata": {
        "id": "0r57qbOJcdeA"
      },
      "outputs": [
        {
          "name": "stdout",
          "output_type": "stream",
          "text": [
            "{}\n",
            "=========================================\n",
            "\n",
            "{'name': 'Jean'}\n",
            "=========================================\n",
            "\n",
            "{'name': 'Jean', 'biometrics': [25, 70, 1.75]}\n",
            "=========================================\n",
            "\n",
            "{'name': 'Jean', 'biometrics': [30, 70, 1.8]}\n",
            "=========================================\n",
            "\n",
            "{'name': 'Jean', 'biometrics': [2, 70, 1.8]}\n",
            "=========================================\n",
            "\n",
            "{'Jean': [25, 70, 1.75], 'Paul': [30, 65, 1.8], 'Pierre': [35, 75, 1.65]}\n",
            "=========================================\n",
            "\n",
            "{'Paul': [65, 1.8], 'Pierre': [35, 75, 1.65]}\n"
          ]
        }
      ],
      "source": [
        "x = {} # Creates an empty dictionary. You could also use x = dict()\n",
        "print(x)\n",
        "print(\"=========================================\\n\")\n",
        "\n",
        "x['name'] = 'Jean' # Adds the key-value pair 'name' and 'Jean' to the initial dictionary x\n",
        "print(x)\n",
        "print(\"=========================================\\n\")\n",
        "\n",
        "x['biometrics'] = [25, 70, 1.75] # Adds the key-value pair 'biometrics' and [25, 70, 1.75] to dictionary x\n",
        "print(x)\n",
        "print(\"=========================================\\n\")\n",
        "\n",
        "x['biometrics'] = [30, 70, 1.80] # Modifies the values of the 'biometrics' key by redefining it\n",
        "print(x)\n",
        "print(\"=========================================\\n\")\n",
        "\n",
        "x['biometrics'][0] = 2 # Modifies the element at index 0 in the list of values corresponding to the 'biometrics' key (previously defined)\n",
        "print(x)\n",
        "print(\"=========================================\\n\")\n",
        "\n",
        "\n",
        "\n",
        "Y = {'Jean': [25, 70, 1.75], 'Paul': [30, 65, 1.80], 'Pierre': [35, 75, 1.65]}\n",
        "print(Y)\n",
        "print(\"=========================================\\n\")\n",
        "\n",
        "del Y['Jean'] # Deletes the key 'Jean' and all its corresponding values\n",
        "\n",
        "del Y['Paul'][0] # Deletes the element at index 0 in the value sequence corresponding to the key 'Paul'. For a key with a single value, use del x['keyName'] where 'keyName' is the name of the key with the single value.\n",
        "\n",
        "\n",
        "print(Y)"
      ]
    },
    {
      "cell_type": "markdown",
      "metadata": {
        "id": "OcdJLe0ecdeB"
      },
      "source": [
        "- To rename a key in a dictionary, you use the `pop()` function as defined in the following example:\n",
        "\n",
        "```python\n",
        "x = {'Jean': [25, 70, 1.75], 'Paul': [30, 65, 1.80], 'Pierre': [35, 75, 1.65]}\n",
        "x['John'] = x.pop('Jean') # Renames the key 'Jean' to 'John'\n",
        "print(x)\n",
        "\n",
        "```"
      ]
    },
    {
      "cell_type": "code",
      "execution_count": 70,
      "metadata": {
        "id": "nt7J8QIccdeB"
      },
      "outputs": [
        {
          "name": "stdout",
          "output_type": "stream",
          "text": [
            "{'Jean': [25, 70, 1.75], 'Paul': [30, 65, 1.8], 'Pierre': [35, 75, 1.65]}\n",
            "{'Paul': [30, 65, 1.8], 'Pierre': [35, 75, 1.65], 'John': [25, 70, 1.75]}\n"
          ]
        }
      ],
      "source": [
        "x = {'Jean': [25, 70, 1.75], 'Paul': [30, 65, 1.80], 'Pierre': [35, 75, 1.65]}\n",
        "print(x)\n",
        "\n",
        "x['John'] = x.pop('Jean') # Renames the key 'Jean' to 'John'\n",
        "print(x)"
      ]
    },
    {
      "cell_type": "markdown",
      "metadata": {},
      "source": [
        "### Practicing Dictionary Methods"
      ]
    },
    {
      "cell_type": "code",
      "execution_count": 41,
      "metadata": {},
      "outputs": [
        {
          "name": "stdout",
          "output_type": "stream",
          "text": [
            "Help on built-in function clear:\n",
            "\n",
            "clear(...) method of builtins.dict instance\n",
            "    D.clear() -> None.  Remove all items from D.\n",
            "\n"
          ]
        }
      ],
      "source": [
        "help(x.clear)"
      ]
    },
    {
      "cell_type": "code",
      "execution_count": 42,
      "metadata": {},
      "outputs": [
        {
          "name": "stdout",
          "output_type": "stream",
          "text": [
            "Help on built-in function copy:\n",
            "\n",
            "copy(...) method of builtins.dict instance\n",
            "    D.copy() -> a shallow copy of D\n",
            "\n"
          ]
        }
      ],
      "source": [
        "help(x.copy)"
      ]
    },
    {
      "cell_type": "code",
      "execution_count": 71,
      "metadata": {},
      "outputs": [
        {
          "name": "stdout",
          "output_type": "stream",
          "text": [
            "{'Paul': [30, 65, 1.8], 'Pierre': [35, 75, 1.65], 'John': [25, 70, 1.75]}\n",
            "{'Paul': [30, 65, 1.8], 'Pierre': [35, 75, 1.65], 'John': [25, 70, 1.75]}\n",
            "True\n"
          ]
        }
      ],
      "source": [
        "print(x)\n",
        "y = x.copy()\n",
        "print(y)\n",
        "print(x == y)"
      ]
    },
    {
      "cell_type": "code",
      "execution_count": 48,
      "metadata": {},
      "outputs": [
        {
          "name": "stdout",
          "output_type": "stream",
          "text": [
            "Help on built-in function fromkeys:\n",
            "\n",
            "fromkeys(iterable, value=None, /) method of builtins.type instance\n",
            "    Create a new dictionary with keys from iterable and values set to value.\n",
            "\n"
          ]
        }
      ],
      "source": [
        "help(x.fromkeys)"
      ]
    },
    {
      "cell_type": "code",
      "execution_count": 53,
      "metadata": {},
      "outputs": [
        {
          "data": {
            "text/plain": [
              "{'Paul': [30, 65, 1.8], 'Pierre': [35, 75, 1.65], 'John': [25, 70, 1.75]}"
            ]
          },
          "execution_count": 53,
          "metadata": {},
          "output_type": "execute_result"
        }
      ],
      "source": [
        "x"
      ]
    },
    {
      "cell_type": "code",
      "execution_count": 56,
      "metadata": {},
      "outputs": [
        {
          "name": "stdout",
          "output_type": "stream",
          "text": [
            "{'Paul': 1, 'Pierre': 1, 'John': 1}\n"
          ]
        }
      ],
      "source": [
        "p = x.fromkeys(x.keys(), 1)\n",
        "print(p)"
      ]
    },
    {
      "cell_type": "code",
      "execution_count": 57,
      "metadata": {},
      "outputs": [
        {
          "name": "stdout",
          "output_type": "stream",
          "text": [
            "Help on built-in function get:\n",
            "\n",
            "get(key, default=None, /) method of builtins.dict instance\n",
            "    Return the value for key if key is in the dictionary, else default.\n",
            "\n"
          ]
        }
      ],
      "source": [
        "help(x.get)"
      ]
    },
    {
      "cell_type": "code",
      "execution_count": 60,
      "metadata": {},
      "outputs": [
        {
          "data": {
            "text/plain": [
              "[35, 75, 1.65]"
            ]
          },
          "execution_count": 60,
          "metadata": {},
          "output_type": "execute_result"
        }
      ],
      "source": [
        "x.get(\"Pierre\", [0,0,0]) #a key extant in x"
      ]
    },
    {
      "cell_type": "code",
      "execution_count": 61,
      "metadata": {},
      "outputs": [
        {
          "data": {
            "text/plain": [
              "[0, 0, 0]"
            ]
          },
          "execution_count": 61,
          "metadata": {},
          "output_type": "execute_result"
        }
      ],
      "source": [
        "x.get(\"Pierres\", [0,0,0]) #a key nonextant in dict x"
      ]
    },
    {
      "cell_type": "code",
      "execution_count": 62,
      "metadata": {},
      "outputs": [
        {
          "name": "stdout",
          "output_type": "stream",
          "text": [
            "Help on built-in function items:\n",
            "\n",
            "items(...) method of builtins.dict instance\n",
            "    D.items() -> a set-like object providing a view on D's items\n",
            "\n"
          ]
        }
      ],
      "source": [
        "help(x.items)"
      ]
    },
    {
      "cell_type": "code",
      "execution_count": 63,
      "metadata": {},
      "outputs": [
        {
          "data": {
            "text/plain": [
              "dict_items([('Paul', [30, 65, 1.8]), ('Pierre', [35, 75, 1.65]), ('John', [25, 70, 1.75])])"
            ]
          },
          "execution_count": 63,
          "metadata": {},
          "output_type": "execute_result"
        }
      ],
      "source": [
        "x.items() #returns like like a tuple"
      ]
    },
    {
      "cell_type": "code",
      "execution_count": 64,
      "metadata": {},
      "outputs": [
        {
          "ename": "TypeError",
          "evalue": "unhashable type: 'list'",
          "output_type": "error",
          "traceback": [
            "\u001b[1;31m---------------------------------------------------------------------------\u001b[0m",
            "\u001b[1;31mTypeError\u001b[0m                                 Traceback (most recent call last)",
            "Cell \u001b[1;32mIn[64], line 1\u001b[0m\n\u001b[1;32m----> 1\u001b[0m \u001b[38;5;28mset\u001b[39m(x\u001b[38;5;241m.\u001b[39mitems())\n",
            "\u001b[1;31mTypeError\u001b[0m: unhashable type: 'list'"
          ]
        }
      ],
      "source": [
        "set(x.items())"
      ]
    },
    {
      "cell_type": "code",
      "execution_count": 65,
      "metadata": {},
      "outputs": [
        {
          "data": {
            "text/plain": [
              "[('Paul', [30, 65, 1.8]), ('Pierre', [35, 75, 1.65]), ('John', [25, 70, 1.75])]"
            ]
          },
          "execution_count": 65,
          "metadata": {},
          "output_type": "execute_result"
        }
      ],
      "source": [
        "list(x.items())"
      ]
    },
    {
      "cell_type": "code",
      "execution_count": 72,
      "metadata": {},
      "outputs": [
        {
          "name": "stdout",
          "output_type": "stream",
          "text": [
            "Paul ::: [30, 65, 1.8]\n",
            "Pierre ::: [35, 75, 1.65]\n",
            "John ::: [25, 70, 1.75]\n"
          ]
        }
      ],
      "source": [
        "for keys,values in x.items():\n",
        "    print(f\"{keys} ::: {values}\")"
      ]
    },
    {
      "cell_type": "code",
      "execution_count": 67,
      "metadata": {},
      "outputs": [
        {
          "name": "stdout",
          "output_type": "stream",
          "text": [
            "Help on built-in function popitem:\n",
            "\n",
            "popitem() method of builtins.dict instance\n",
            "    Remove and return a (key, value) pair as a 2-tuple.\n",
            "    \n",
            "    Pairs are returned in LIFO (last-in, first-out) order.\n",
            "    Raises KeyError if the dict is empty.\n",
            "\n"
          ]
        }
      ],
      "source": [
        "help(x.popitem)"
      ]
    },
    {
      "cell_type": "code",
      "execution_count": 77,
      "metadata": {},
      "outputs": [
        {
          "name": "stdout",
          "output_type": "stream",
          "text": [
            "{'Paul': [30, 65, 1.8], 'Pierre': [35, 75, 1.65]}\n",
            "{'Paul': [30, 65, 1.8]}\n"
          ]
        }
      ],
      "source": [
        "z = x.copy()\n",
        "\n",
        "z.popitem()\n",
        "print(z)\n",
        "\n",
        "z.popitem()\n",
        "print(z)\n",
        "\n",
        "#pop item removes items in last in first out order"
      ]
    },
    {
      "cell_type": "code",
      "execution_count": 78,
      "metadata": {},
      "outputs": [
        {
          "name": "stdout",
          "output_type": "stream",
          "text": [
            "Help on built-in function setdefault:\n",
            "\n",
            "setdefault(key, default=None, /) method of builtins.dict instance\n",
            "    Insert key with a value of default if key is not in the dictionary.\n",
            "    \n",
            "    Return the value for key if key is in the dictionary, else default.\n",
            "\n"
          ]
        }
      ],
      "source": [
        "help(x.setdefault)"
      ]
    },
    {
      "cell_type": "code",
      "execution_count": 87,
      "metadata": {},
      "outputs": [
        {
          "name": "stdout",
          "output_type": "stream",
          "text": [
            "True\n",
            "[30, 65, 1.8]\n"
          ]
        }
      ],
      "source": [
        "p = x\n",
        "print(p == x)\n",
        "# p.setdefault(\"Man\")\n",
        "# print(p)\n",
        "\n",
        "print(p.setdefault(\"Paul\", 45))\n"
      ]
    },
    {
      "cell_type": "code",
      "execution_count": 88,
      "metadata": {},
      "outputs": [
        {
          "name": "stdout",
          "output_type": "stream",
          "text": [
            "Help on built-in function update:\n",
            "\n",
            "update(...) method of builtins.dict instance\n",
            "    D.update([E, ]**F) -> None.  Update D from dict/iterable E and F.\n",
            "    If E is present and has a .keys() method, then does:  for k in E: D[k] = E[k]\n",
            "    If E is present and lacks a .keys() method, then does:  for k, v in E: D[k] = v\n",
            "    In either case, this is followed by: for k in F:  D[k] = F[k]\n",
            "\n"
          ]
        }
      ],
      "source": [
        "help(x.update)"
      ]
    },
    {
      "cell_type": "markdown",
      "metadata": {
        "id": "7jJMqjGDcdeB"
      },
      "source": [
        "<!--NAVIGATION-->\n",
        "<  [2.Variables and assignements](02_Lecture02.ipynb)| [ToC](Index.ipynb) | [4.Flow control](04_Lecture04.ipynb)>\n"
      ]
    },
    {
      "cell_type": "markdown",
      "metadata": {},
      "source": [
        "# Practical Exercise 3"
      ]
    },
    {
      "cell_type": "markdown",
      "metadata": {},
      "source": [
        "# Exercise 1:\n",
        "\n"
      ]
    },
    {
      "cell_type": "markdown",
      "metadata": {},
      "source": [
        "Create a list of integers from 1 to 10."
      ]
    },
    {
      "cell_type": "code",
      "execution_count": 39,
      "metadata": {},
      "outputs": [
        {
          "name": "stdout",
          "output_type": "stream",
          "text": [
            "[1, 2, 3, 4, 5, 6, 7, 8, 9, 10]\n"
          ]
        }
      ],
      "source": [
        "my_list = [x for x in range(1,11)]\n",
        "print(my_list)"
      ]
    },
    {
      "cell_type": "markdown",
      "metadata": {},
      "source": [
        "# Exercise 2:"
      ]
    },
    {
      "cell_type": "markdown",
      "metadata": {},
      "source": [
        "Create a tuple containing the elements \"apple\", \"banana\", and \"cherry\"."
      ]
    },
    {
      "cell_type": "code",
      "execution_count": 41,
      "metadata": {},
      "outputs": [
        {
          "name": "stdout",
          "output_type": "stream",
          "text": [
            "('apple', 'banana', 'cherry')\n"
          ]
        }
      ],
      "source": [
        "my_tuple = (\"apple\", \"banana\", \"cherry\")\n",
        "print(my_tuple)"
      ]
    },
    {
      "cell_type": "markdown",
      "metadata": {},
      "source": [
        "# Exercise 3:"
      ]
    },
    {
      "cell_type": "markdown",
      "metadata": {},
      "source": [
        "Convert the list numbers = [10, 20, 30, 40] into a tuple."
      ]
    },
    {
      "cell_type": "code",
      "execution_count": 42,
      "metadata": {},
      "outputs": [
        {
          "name": "stdout",
          "output_type": "stream",
          "text": [
            "(10, 20, 30, 40)\n"
          ]
        }
      ],
      "source": [
        "numbers = [10,20,30,40]\n",
        "\n",
        "new_tuple = tuple(numbers)\n",
        "print(new_tuple)"
      ]
    },
    {
      "cell_type": "markdown",
      "metadata": {},
      "source": [
        "# Exercise 4:\n",
        "\n"
      ]
    },
    {
      "cell_type": "markdown",
      "metadata": {},
      "source": [
        "Create a set containing the elements 1, 2, 3, 4, 5."
      ]
    },
    {
      "cell_type": "code",
      "execution_count": 44,
      "metadata": {},
      "outputs": [
        {
          "name": "stdout",
          "output_type": "stream",
          "text": [
            "{1, 2, 3, 4, 5}\n"
          ]
        }
      ],
      "source": [
        "my_set = {1,2,3,4,5}\n",
        "print(my_set)"
      ]
    },
    {
      "cell_type": "markdown",
      "metadata": {},
      "source": [
        "# Exercise 5\n"
      ]
    },
    {
      "cell_type": "markdown",
      "metadata": {},
      "source": [
        "Create a dictionary student with the keys \"name\", \"age\", and \"grade\" and corresponding values \"Alice\", 20, and \"A\""
      ]
    },
    {
      "cell_type": "code",
      "execution_count": 53,
      "metadata": {},
      "outputs": [
        {
          "name": "stdout",
          "output_type": "stream",
          "text": [
            "{'name': 'Alice', 'age': 20, 'grade': 'A'}\n"
          ]
        }
      ],
      "source": [
        "my_dict = {\"name\":\"Alice\", \"age\":20, \"grade\":\"A\"}\n",
        "# my_dict2 = {name:=\"Alice\", age:=20, grade:=\"A\"}\n",
        "print(my_dict)\n"
      ]
    }
  ],
  "metadata": {
    "colab": {
      "include_colab_link": true,
      "provenance": []
    },
    "kernelspec": {
      "display_name": "Python 3 (ipykernel)",
      "language": "python",
      "name": "python3"
    },
    "language_info": {
      "codemirror_mode": {
        "name": "ipython",
        "version": 3
      },
      "file_extension": ".py",
      "mimetype": "text/x-python",
      "name": "python",
      "nbconvert_exporter": "python",
      "pygments_lexer": "ipython3",
      "version": "3.11.5"
    }
  },
  "nbformat": 4,
  "nbformat_minor": 0
}
