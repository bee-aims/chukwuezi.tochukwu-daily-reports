{
 "cells": [
  {
   "cell_type": "markdown",
   "metadata": {},
   "source": [
    "# Exercise for Loops and Flow Controls So far."
   ]
  },
  {
   "cell_type": "markdown",
   "metadata": {
    "vscode": {
     "languageId": "plaintext"
    }
   },
   "source": [
    "### Solution 1: Even and Odd Case"
   ]
  },
  {
   "cell_type": "markdown",
   "metadata": {},
   "source": [
    "If the user enters a second parameter indicating that he want \"odd\", the algorithm returns the sum as follows:\n",
    "\n",
    "$$Sum \\; = \\sum_{\\small \\substack{i = 0,\\\\ \\text{i is odd}}}^{n - 1}(i + 3)$$\n",
    "\n",
    "If the user enters the parameter for \"even\", then the algorithm applied returns the Product as follows:\n",
    "\n",
    "$$Product \\; = \\prod_{\\small \\substack{i = 0,\\\\ \\text{i is even}}}^{n - 1}(i + 3)$$"
   ]
  },
  {
   "cell_type": "code",
   "execution_count": 49,
   "metadata": {},
   "outputs": [
    {
     "name": "stdout",
     "output_type": "stream",
     "text": [
      "Domain of values for sum: [1, 3, 5]\n",
      "For odd case, the sum = 18\n"
     ]
    }
   ],
   "source": [
    "def sum_product() -> int:\n",
    "    sum_result = 0\n",
    "    prod_result = 1\n",
    "    enter_again = True\n",
    "    n = 0\n",
    "    parity =\"\"\n",
    "\n",
    "    #Validation\n",
    "    while enter_again:\n",
    "        n = input(\"Enter a natural number: \")\n",
    "        if str(n).isdigit():\n",
    "            n = int(n)\n",
    "            enter_again = False\n",
    "        else:\n",
    "            print(\"You must enter a natural number: \\n\")\n",
    "            continue\n",
    "    \n",
    "    enter_again = True\n",
    "\n",
    "    while enter_again:\n",
    "        parity = input(\"Do you want to cumpute for odd or even numbers (Enter Odd or Even or o or e) \")\n",
    "        if parity.lower() in [\"odd\", \"o\", \"even\", \"e\"]:\n",
    "            enter_again = False\n",
    "        else:\n",
    "            print(\"\"\"You must enter the right parity (\"odd\", \"o\", \"even\", \"e\"): \\n\"\"\")\n",
    "            continue\n",
    "\n",
    "\n",
    "    if parity.lower() == \"odd\" or parity.lower() == \"o\":\n",
    "        possible_range = [x for x in range(0, n) if x%2 != 0]\n",
    "        print(\"Domain of values for sum:\" ,possible_range)\n",
    "        for num in possible_range:\n",
    "            sum_result += num + 3\n",
    "        return f\"For odd case, the sum = {sum_result}\"\n",
    "\n",
    "    elif parity.lower() == \"even\" or parity.lower() == \"e\":\n",
    "        possible_range = [x for x in range(0, n) if x%2 == 0 and x != 0]\n",
    "\n",
    "        print(\"Domain of values for product: \",possible_range)\n",
    "        for num in possible_range:\n",
    "            prod_result *=  num + 3\n",
    "        return f\"For even case, the product = {prod_result}\"\n",
    "\n",
    "print(sum_product())"
   ]
  },
  {
   "cell_type": "markdown",
   "metadata": {},
   "source": [
    "### Solution 2"
   ]
  },
  {
   "cell_type": "code",
   "execution_count": 18,
   "metadata": {},
   "outputs": [
    {
     "name": "stdout",
     "output_type": "stream",
     "text": [
      "The day is: Wednesday\n"
     ]
    }
   ],
   "source": [
    "days_of_week = {0: \"Sunday\", 1: \"Monday\", 2: \"Tuesday\", 3: \"Wednesday\", 4: \"Thursday\", 5: \"Friday\", 6: \"Saturday\"}\n",
    "\n",
    "enter_again = True\n",
    "user_input = \"\"\n",
    "\n",
    "while enter_again:\n",
    "    user_input = int(input(\"Please enter the day number between [0 - 6]: \"))\n",
    "    if user_input >= 0 and user_input <= 6:\n",
    "        enter_again = False\n",
    "    else:\n",
    "        print(\"Invalid input. Please enter a number between 0 and 6.\\n\")\n",
    "        continue\n",
    "\n",
    "print(f\"The day is: {days_of_week[user_input]}\") if 1 <= user_input <= 5 else print(\"Weekend\")\n"
   ]
  },
  {
   "cell_type": "markdown",
   "metadata": {},
   "source": [
    "### Solution 3"
   ]
  },
  {
   "cell_type": "code",
   "execution_count": 5,
   "metadata": {},
   "outputs": [
    {
     "name": "stdout",
     "output_type": "stream",
     "text": [
      "Invalid input. Please enter a number between 0 and 11.\n",
      "\n",
      "Invalid input. Please enter a number between 0 and 11.\n",
      "\n",
      "Invalid input. Please enter a number between 0 and 11.\n",
      "\n",
      "Invalid input. Please enter a number between 0 and 11.\n",
      "\n",
      "The month December has 31 days.\n"
     ]
    }
   ],
   "source": [
    "months_of_non_leap_year = {0:{\"month\":\"January\", \"days\":31},\n",
    "                           1:{\"month\":\"February\", \"days\":28},\n",
    "                           2:{\"month\":\"March\", \"days\":31},\n",
    "                           3:{\"month\":\"April\", \"days\":30},\n",
    "                           4:{\"month\":\"May\", \"days\":31},\n",
    "                           5:{\"month\":\"June\", \"days\":30},\n",
    "                           6:{\"month\":\"July\", \"days\":31},\n",
    "                           7:{\"month\":\"August\", \"days\":31},\n",
    "                           8:{\"month\":\"September\", \"days\":30},\n",
    "                           9:{\"month\":\"October\", \"days\":31},\n",
    "                           10:{\"month\":\"November\", \"days\":30},\n",
    "                           11:{\"month\":\"December\", \"days\":31} \n",
    "                           }\n",
    "# print(months_of_non_leap_year[1])\n",
    "\n",
    "enter_again = True\n",
    "user_input = 0\n",
    "\n",
    "while enter_again:\n",
    "    user_input = input(\"Please enter the month number between [0 - 11]: \")\n",
    "    if str(user_input).isdigit() and int(user_input) >= 0 and int(user_input) <= 11:\n",
    "        enter_again = False\n",
    "        user_input = int(user_input)\n",
    "    else:\n",
    "        print(\"Invalid input. Please enter a number between 0 and 11.\\n\")\n",
    "        continue\n",
    "\n",
    "print(\"The month {0} has {1} days.\".format(months_of_non_leap_year[user_input][\"month\"], months_of_non_leap_year[user_input][\"days\"]))"
   ]
  },
  {
   "cell_type": "markdown",
   "metadata": {},
   "source": [
    "### Solution 4a: `for loop`"
   ]
  },
  {
   "cell_type": "code",
   "execution_count": 6,
   "metadata": {},
   "outputs": [
    {
     "name": "stdout",
     "output_type": "stream",
     "text": [
      "Precious\n",
      "Precious\n",
      "Precious\n"
     ]
    }
   ],
   "source": [
    "name = input(\"What is my name?: \")\n",
    "for i in range(3):\n",
    "    print(name)"
   ]
  },
  {
   "cell_type": "markdown",
   "metadata": {},
   "source": [
    "### Solution 4b: `while loop`"
   ]
  },
  {
   "cell_type": "code",
   "execution_count": 7,
   "metadata": {},
   "outputs": [
    {
     "name": "stdout",
     "output_type": "stream",
     "text": [
      "Tochukwu\n",
      "Tochukwu\n",
      "Tochukwu\n"
     ]
    }
   ],
   "source": [
    "name = input(\"What is my name?: \")\n",
    "i = 3\n",
    "\n",
    "while i > 0:\n",
    "    print(name)\n",
    "    i -= 1\n",
    "\n"
   ]
  },
  {
   "cell_type": "markdown",
   "metadata": {},
   "source": [
    "### Solution 5: Fibonacci Sequence \n",
    "\n",
    "$$a_{n+1} = a_{n} + a_{n-1}$$"
   ]
  },
  {
   "cell_type": "code",
   "execution_count": 8,
   "metadata": {},
   "outputs": [
    {
     "name": "stdout",
     "output_type": "stream",
     "text": [
      "f(0) = 0\n",
      "f(1) = 1\n",
      "f(2) = 1\n",
      "f(3) = 2\n",
      "f(4) = 3\n",
      "f(5) = 5\n",
      "f(6) = 8\n",
      "f(7) = 13\n",
      "f(8) = 21\n",
      "f(9) = 34\n",
      "f(10) = 55\n",
      "f(11) = 89\n",
      "f(12) = 144\n",
      "f(13) = 233\n",
      "f(14) = 377\n",
      "f(15) = 610\n"
     ]
    }
   ],
   "source": [
    "a_n_minus_1 = int(input(\"What is the first term of the sequence: \"))\n",
    "a_n = int(input(\"What is the second term of the sequence: \"))\n",
    "\n",
    "k = int(input(\"How many terms do you want to generate?\" ))\n",
    "\n",
    "f_n = 0\n",
    "\n",
    "\n",
    "print(f\"f(0) = {a_n_minus_1}\")\n",
    "print(f\"f(1) = {a_n}\")\n",
    "\n",
    "\n",
    "for i in range(2, k+1):\n",
    "    f_n = a_n_minus_1 + a_n\n",
    "    print(f\"f({i}) = {f_n}\")\n",
    "    a_n_minus_1 = a_n\n",
    "    a_n = f_n"
   ]
  },
  {
   "cell_type": "markdown",
   "metadata": {},
   "source": [
    "### Solution 6: Another Sequence\n",
    "\n",
    "$$2x_{n+2} - x_{n+1}-6x_{n} = 0$$\n",
    "\n",
    "or\n",
    "\n",
    "$$x_{n+2} = 0.5x_{n+1} + 3x_{n}$$"
   ]
  },
  {
   "cell_type": "code",
   "execution_count": 14,
   "metadata": {},
   "outputs": [
    {
     "name": "stdout",
     "output_type": "stream",
     "text": [
      "S(0) = 0.0\n",
      "S(1) = 1.0\n",
      "S(2) = 0.5\n",
      "S(3) = 3.25\n",
      "S(4) = 3.125\n",
      "S(5) = 11.3125\n",
      "S(6) = 15.03125\n",
      "S(7) = 41.453125\n",
      "S(8) = 65.8203125\n",
      "S(9) = 157.26953125\n",
      "S(10) = 276.095703125\n",
      "S(11) = 609.8564453125\n",
      "S(12) = 1133.21533203125\n",
      "S(13) = 2396.177001953125\n",
      "S(14) = 4597.7344970703125\n",
      "S(15) = 9487.398254394531\n"
     ]
    }
   ],
   "source": [
    "x_n = float(input(\"What is the first term of the sequence: \"))\n",
    "x_n_plus_1 = float(input(\"What is the second term of the sequence: \"))\n",
    "\n",
    "k = int(input(\"How many terms do you want to generate?\" ))\n",
    "\n",
    "S_n = 0\n",
    "\n",
    "\n",
    "print(f\"S(0) = {x_n}\")\n",
    "print(f\"S(1) = {x_n_plus_1}\")\n",
    "\n",
    "\n",
    "for i in range(2, k+1):\n",
    "    S_n = 0.5*x_n_plus_1 + 3*x_n\n",
    "    print(f\"S({i}) = {S_n}\")\n",
    "    x_n = x_n_plus_1\n",
    "    x_n_plus_1 = S_n"
   ]
  },
  {
   "cell_type": "markdown",
   "metadata": {},
   "source": [
    "### Solution 7a: Leap Year"
   ]
  },
  {
   "cell_type": "code",
   "execution_count": 16,
   "metadata": {},
   "outputs": [
    {
     "name": "stdout",
     "output_type": "stream",
     "text": [
      "1900 is not a leap year\n"
     ]
    }
   ],
   "source": [
    "year = int(input(\"Enter a year: \"))\n",
    "\n",
    "\n",
    "if (year % 4 == 0 and year % 100!= 0) or (year % 400 == 0):\n",
    "    print(f\"{year} is a leap year\")\n",
    "else:\n",
    "    print(f\"{year} is not a leap year\")"
   ]
  },
  {
   "cell_type": "markdown",
   "metadata": {},
   "source": [
    "### Solution 7b: Leap Year using only logical operators"
   ]
  },
  {
   "cell_type": "code",
   "execution_count": 19,
   "metadata": {},
   "outputs": [
    {
     "name": "stdout",
     "output_type": "stream",
     "text": [
      "False\n"
     ]
    }
   ],
   "source": [
    "year = int(input(\"Enter a year: \"))\n",
    "\n",
    "print((year % 4 == 0 and year % 100!= 0) or (year % 400 == 0))"
   ]
  },
  {
   "cell_type": "markdown",
   "metadata": {},
   "source": [
    "### Solution 8a: Sum of squares with `for loop`\n"
   ]
  },
  {
   "cell_type": "code",
   "execution_count": 21,
   "metadata": {},
   "outputs": [
    {
     "name": "stdout",
     "output_type": "stream",
     "text": [
      "The sum of squares of first 10 natural numbers is: 385\n"
     ]
    }
   ],
   "source": [
    "n = int(input(\"Enter n: \"))\n",
    "\n",
    "sum_of_squares = 0\n",
    "\n",
    "for i in range(1, n+1):\n",
    "    sum_of_squares += i**2\n",
    "\n",
    "print(f\"The sum of squares of first {n} natural numbers is: {sum_of_squares}\")"
   ]
  },
  {
   "cell_type": "markdown",
   "metadata": {},
   "source": [
    "### Solution 8a: Sum of squares with `while loop`"
   ]
  },
  {
   "cell_type": "code",
   "execution_count": 22,
   "metadata": {},
   "outputs": [
    {
     "name": "stdout",
     "output_type": "stream",
     "text": [
      "The sum of squares of first 10 natural numbers is: 385\n"
     ]
    }
   ],
   "source": [
    "n = int(input(\"Enter n: \"))\n",
    "\n",
    "sum_of_squares = 0\n",
    "\n",
    "i = n\n",
    "while i > 0:\n",
    "    sum_of_squares += i**2\n",
    "    i -= 1\n",
    "\n",
    "print(f\"The sum of squares of first {n} natural numbers is: {sum_of_squares}\")"
   ]
  },
  {
   "cell_type": "markdown",
   "metadata": {},
   "source": [
    "### Solution 8b: Smallest natural number, `for loop`\n",
    "\n",
    "Such that:\n",
    "\n",
    "$$1^2 + 2^2 + 3^2 + \\cdots + n^2 \\ge M$$"
   ]
  },
  {
   "cell_type": "code",
   "execution_count": 28,
   "metadata": {},
   "outputs": [
    {
     "name": "stdout",
     "output_type": "stream",
     "text": [
      "For M = 1000,\n",
      "\n",
      "The smallest number that satisfies this is: 14\n",
      "\n",
      "When n = 14, sigma_k^2 = 1015\n",
      "\n",
      "Therefore, \n",
      "\n",
      "1^2 + 2^2 + 3^2 + 4^2 + 5^2 + 6^2 + 7^2 + 8^2 + 9^2 + 10^2 + 11^2 + 12^2 + 13^2 + 14^2 >= 1000\n"
     ]
    }
   ],
   "source": [
    "M = int(input(\"Enter M: \"))\n",
    "\n",
    "sum_of_squares = 0\n",
    "\n",
    "n = None\n",
    "\n",
    "print_string = \"\"\n",
    "\n",
    "for i in range(1, M+1):\n",
    "    sum_of_squares += i**2\n",
    "    if sum_of_squares < M:\n",
    "        print_string += f\"{i}^2 + \"\n",
    "    if sum_of_squares >= M:\n",
    "        print_string += f\"{i}^2\"\n",
    "        n = i\n",
    "        break\n",
    "print_string += f\" >= {M}\"\n",
    "\n",
    "print(f\"For M = {M},\\n\")\n",
    "print(f\"The smallest number that satisfies this is: {n}\\n\\nWhen n = {n}, sigma_k^2 = {sum_of_squares}\\n\\nTherefore, \\n\\n{print_string}\")"
   ]
  },
  {
   "cell_type": "markdown",
   "metadata": {},
   "source": [
    "### Solution 8b: Smallest number `while loop`"
   ]
  },
  {
   "cell_type": "code",
   "execution_count": 29,
   "metadata": {},
   "outputs": [
    {
     "name": "stdout",
     "output_type": "stream",
     "text": [
      "For M = 1000,\n",
      "\n",
      "The smallest number that satisfies this is: 14\n",
      "\n",
      "When n = 14, sigma_k^2 = 1015\n",
      "\n",
      "Therefore, \n",
      "\n",
      "1^2 + 2^2 + 3^2 + 4^2 + 5^2 + 6^2 + 7^2 + 8^2 + 9^2 + 10^2 + 11^2 + 12^2 + 13^2 + 14^2 >= 1000\n"
     ]
    }
   ],
   "source": [
    "M = int(input(\"Enter M: \"))\n",
    "\n",
    "sum_of_squares = 0\n",
    "\n",
    "n = None\n",
    "\n",
    "print_string = \"\"\n",
    "\n",
    "i = 1\n",
    "while i > 0:\n",
    "    sum_of_squares += i**2\n",
    "    if sum_of_squares < M:\n",
    "        print_string += f\"{i}^2 + \"\n",
    "    if sum_of_squares >= M:\n",
    "        print_string += f\"{i}^2\"\n",
    "        n = i\n",
    "        break\n",
    "    i += 1\n",
    "print_string += F\" >= {M}\"\n",
    "\n",
    "print(f\"For M = {M},\\n\")\n",
    "print(f\"The smallest number that satisfies this is: {n}\\n\\nWhen n = {n}, sigma_k^2 = {sum_of_squares}\\n\\nTherefore, \\n\\n{print_string}\")"
   ]
  },
  {
   "cell_type": "markdown",
   "metadata": {},
   "source": [
    "### 9a: Divisors of `n`\n",
    "\n",
    "$$n \\in \\mathbb{N}$$"
   ]
  },
  {
   "cell_type": "code",
   "execution_count": 30,
   "metadata": {},
   "outputs": [
    {
     "name": "stdout",
     "output_type": "stream",
     "text": [
      "[1, 2, 3, 6, 13, 26, 39, 78]\n"
     ]
    }
   ],
   "source": [
    "n = int(input(\"Enter a number: \"))\n",
    "\n",
    "divisors = []\n",
    "\n",
    "for i in range(1, n+1):\n",
    "    if n % i == 0:\n",
    "        divisors.append(i)\n",
    "\n",
    "print(divisors)"
   ]
  },
  {
   "cell_type": "markdown",
   "metadata": {},
   "source": [
    "### 9b: Prime factors of `n`\n",
    "$$n \\in \\mathbb{Z}$$"
   ]
  },
  {
   "cell_type": "code",
   "execution_count": 50,
   "metadata": {},
   "outputs": [
    {
     "name": "stdout",
     "output_type": "stream",
     "text": [
      "99 = 3^2 * 11^1\n",
      "Prime factors of 99 is {11, 3}\n"
     ]
    }
   ],
   "source": [
    "n = int(input(\"Enter an integer: \"))\n",
    "\n",
    "temp = n  #since the value of n is edited later\n",
    "\n",
    "prime_factors = []\n",
    "powers_of_primes = []\n",
    "\n",
    "i = 2\n",
    "while i <= n:\n",
    "    while n % i == 0:\n",
    "        prime_factors.append(i)\n",
    "        n = n / i\n",
    "    i += 1\n",
    "\n",
    "\n",
    "# I used dictonary comprehensions from previous lesson to create a dictionary of prime factors and their counts\n",
    "prim_dict = {i: prime_factors.count(i) for i in prime_factors}\n",
    "\n",
    "# I wanted here to append the powers of primes in the a new list called powers_of_primes\n",
    "for key,value in prim_dict.items():\n",
    "    powers_of_primes.append(f\"{key}^{value}\")\n",
    "\n",
    "\n",
    "print(\"{0} = {1}\".format(temp, \" * \".join(powers_of_primes)))\n",
    "print(f\"Prime factors of {temp} is {set(prime_factors)}\")"
   ]
  },
  {
   "cell_type": "markdown",
   "metadata": {},
   "source": [
    "### Solution 10: Multiplication Table"
   ]
  },
  {
   "cell_type": "code",
   "execution_count": 44,
   "metadata": {},
   "outputs": [
    {
     "name": "stdout",
     "output_type": "stream",
     "text": [
      "7 * 1 = 7\n",
      "7 * 2 = 14\n",
      "7 * 3 = 21\n",
      "7 * 4 = 28\n",
      "7 * 5 = 35\n",
      "7 * 6 = 42\n",
      "7 * 7 = 49\n",
      "7 * 8 = 56\n",
      "7 * 9 = 63\n",
      "7 * 10 = 70\n",
      "7 * 11 = 77\n",
      "7 * 12 = 84\n",
      "7 * 13 = 91\n",
      "7 * 14 = 98\n",
      "7 * 15 = 105\n",
      "7 * 16 = 112\n",
      "7 * 17 = 119\n",
      "7 * 18 = 126\n",
      "7 * 19 = 133\n",
      "7 * 20 = 140\n"
     ]
    }
   ],
   "source": [
    "n = int(input(\"Enter n (0 - 9): \"))\n",
    "N = int(input(\"Now Enter (the number of multiplicity to generate for n): \"))\n",
    "\n",
    "for i in range(1, N+1):\n",
    "    print(f\"{n} * {i} = {n * i}\")"
   ]
  },
  {
   "cell_type": "markdown",
   "metadata": {},
   "source": [
    "### Solution 11: Multiples of 3,7,or 11"
   ]
  },
  {
   "cell_type": "code",
   "execution_count": 45,
   "metadata": {},
   "outputs": [
    {
     "name": "stdout",
     "output_type": "stream",
     "text": [
      "0\n",
      "3\n",
      "6\n",
      "7\n",
      "9\n",
      "11\n",
      "12\n",
      "14\n",
      "15\n",
      "18\n",
      "21\n",
      "22\n",
      "24\n",
      "27\n",
      "28\n",
      "30\n",
      "33\n",
      "35\n",
      "36\n",
      "39\n"
     ]
    }
   ],
   "source": [
    "for i in range(0, 40):\n",
    "    if i % 3 == 0 or i % 7 == 0 or i % 11 == 0:\n",
    "        print(i)"
   ]
  },
  {
   "cell_type": "markdown",
   "metadata": {},
   "source": [
    "### Solution 12: Floor of x\n",
    "\n",
    "The floor of x was given as $E\\big[x\\big]$, which satisfies,\n",
    "$$E\\big[x\\big] = 1 + E\\big[x-1\\big]$$  \n"
   ]
  },
  {
   "cell_type": "code",
   "execution_count": 47,
   "metadata": {},
   "outputs": [
    {
     "name": "stdout",
     "output_type": "stream",
     "text": [
      "The floor of 23 is 23\n"
     ]
    }
   ],
   "source": [
    "x = input(\"Enter a number with decimal point: \")\n",
    "\n",
    "x_prime = x.split(\".\")\n",
    "\n",
    "floor_x = int(x_prime[0])\n",
    "\n",
    "print(f\"The floor of {x} is {floor_x}\")"
   ]
  },
  {
   "cell_type": "markdown",
   "metadata": {},
   "source": [
    "### Solution 13: Points on a cartesian coordinate\n"
   ]
  },
  {
   "cell_type": "code",
   "execution_count": 53,
   "metadata": {},
   "outputs": [
    {
     "name": "stdout",
     "output_type": "stream",
     "text": [
      "You entered: (0,0)\n",
      "The point (0, 0) lies on the Cartesian coordinate.\n",
      "Thanks for playing!\n"
     ]
    }
   ],
   "source": [
    "\n",
    "cont = True\n",
    "\n",
    "while cont:\n",
    "    x = input(\"Enter the x value: \")\n",
    "    y = input(\"Enter the y value: \")\n",
    "\n",
    "    print(f\"You entered: ({x},{y})\")\n",
    "\n",
    "    if float(x) == float(y) and float(x) == float(0):\n",
    "        print(\"The point (0, 0) lies on the Cartesian coordinate.\")\n",
    "    elif float(x) >= 0 and float(y) >= 0:\n",
    "        print(f\"The point ({x}, {y}) lies in the 1st quadrant.\")\n",
    "    elif float(x) >= 0 and float(y) <= 0:\n",
    "        print(f\"The point ({x}, {y}) lies in the 4th quadrant.\")\n",
    "    elif float(x) <= 0 and float(y) >= 0:\n",
    "        print(f\"The point ({x}, {y}) lies in the 2nd quadrant.\")\n",
    "    elif float(x) <= 0 and float(y) <= 0:\n",
    "        print(f\"The point ({x}, {y}) lies in the 3rd quadrant.\")\n",
    "    \n",
    "    cont = input(\"Do you want to continue? (yes/no): \").lower() == \"yes\"\n",
    "    if not cont:\n",
    "        print(\"Thanks for playing!\")    \n"
   ]
  },
  {
   "cell_type": "markdown",
   "metadata": {},
   "source": [
    "### Solution 14: Integer Within Integer\n",
    "\n"
   ]
  },
  {
   "cell_type": "code",
   "execution_count": 56,
   "metadata": {},
   "outputs": [
    {
     "name": "stdout",
     "output_type": "stream",
     "text": [
      "These are all the numtiples of 3 from 0 to 255\n",
      "[3, 6, 9, 12, 15, 18, 21, 24, 27, 30, 33, 36, 39, 42, 45, 48, 51, 54, 57, 60, 63, 66, 69, 72, 75, 78, 81, 84, 87, 90, 93, 96, 99, 102, 105, 108, 111, 114, 117, 120, 123, 126, 129, 132, 135, 138, 141, 144, 147, 150, 153, 156, 159, 162, 165, 168, 171, 174, 177, 180, 183, 186, 189, 192, 195, 198, 201, 204, 207, 210, 213, 216, 219, 222, 225, 228, 231, 234, 237, 240, 243, 246, 249, 252, 255]\n",
      "Thanks for playing!\n"
     ]
    }
   ],
   "source": [
    "cont = True\n",
    "x = None\n",
    "y = None\n",
    "while cont:\n",
    "    while True:\n",
    "        try:\n",
    "            x = input(\"Enter an integer in [0, 9]: \")\n",
    "            if not (0 <= int(x) <= 9):\n",
    "                raise Exception(\"Integer out of acceptable range\")\n",
    "        except (ValueError, TypeError, NameError, Exception):\n",
    "            x = input(\"Invalid input, please enter an integer only and only in [0, 9]: \")\n",
    "        else:\n",
    "            break\n",
    "    while True:\n",
    "        try:\n",
    "            y = input(\"Enter another integer in [0, 255]\")\n",
    "            if not (0 <= int(y) <= 255 and y.isdigit()):\n",
    "                raise Exception(\"Integer out of acceptable range\")\n",
    "        except (ValueError, TypeError, NameError, Exception):\n",
    "            y = input(\"Invalid input. You are to enter an integer only and only in [0, 255]\")\n",
    "        else:\n",
    "            break\n",
    "\n",
    "    multiples_of_x = []\n",
    "\n",
    "    for i in range(int(x), int(y)+1):\n",
    "        if i % int(x) == 0:\n",
    "            multiples_of_x.append(i)\n",
    "    print(f\"These are all the numtiples of {x} from 0 to {y}\")\n",
    "    print(multiples_of_x)\n",
    "\n",
    "    cont = input(\"Would you like to continue playing this game? (yes/no): \").lower() == \"yes\"\n",
    "\n",
    "    if cont != \"yes\":\n",
    "        print(\"Thanks for playing!\")"
   ]
  },
  {
   "cell_type": "code",
   "execution_count": null,
   "metadata": {},
   "outputs": [],
   "source": []
  },
  {
   "cell_type": "code",
   "execution_count": null,
   "metadata": {},
   "outputs": [],
   "source": []
  },
  {
   "cell_type": "code",
   "execution_count": null,
   "metadata": {},
   "outputs": [],
   "source": []
  }
 ],
 "metadata": {
  "kernelspec": {
   "display_name": "base",
   "language": "python",
   "name": "python3"
  },
  "language_info": {
   "codemirror_mode": {
    "name": "ipython",
    "version": 3
   },
   "file_extension": ".py",
   "mimetype": "text/x-python",
   "name": "python",
   "nbconvert_exporter": "python",
   "pygments_lexer": "ipython3",
   "version": "3.11.5"
  }
 },
 "nbformat": 4,
 "nbformat_minor": 2
}
