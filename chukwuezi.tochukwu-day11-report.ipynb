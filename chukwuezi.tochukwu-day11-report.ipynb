{
 "cells": [
  {
   "cell_type": "markdown",
   "metadata": {
    "vscode": {
     "languageId": "plaintext"
    }
   },
   "source": [
    "# Practical_6: Numpy\n",
    "\n",
    "---\n",
    "\n"
   ]
  },
  {
   "cell_type": "code",
   "execution_count": 2,
   "metadata": {},
   "outputs": [],
   "source": [
    "# Global importation of numpy\n",
    "import numpy as np"
   ]
  },
  {
   "cell_type": "markdown",
   "metadata": {},
   "source": [
    "### Exercise 1:\n",
    "Create a NumPy array of integers from 1 to 10.\n",
    "\n"
   ]
  },
  {
   "cell_type": "code",
   "execution_count": 2,
   "metadata": {},
   "outputs": [
    {
     "name": "stdout",
     "output_type": "stream",
     "text": [
      "[1 2 3 4 5 6 7 8 9]\n"
     ]
    }
   ],
   "source": [
    "arr_1 = np.arange(1, 11)\n",
    "\n",
    "print(arr_1)"
   ]
  },
  {
   "cell_type": "markdown",
   "metadata": {},
   "source": [
    "### Exercise 2:\n",
    "Create a 3x3 NumPy array filled with zeros.\n",
    "\n"
   ]
  },
  {
   "cell_type": "code",
   "execution_count": 3,
   "metadata": {},
   "outputs": [
    {
     "name": "stdout",
     "output_type": "stream",
     "text": [
      "[[0. 0. 0.]\n",
      " [0. 0. 0.]\n",
      " [0. 0. 0.]]\n"
     ]
    }
   ],
   "source": [
    "arr_2 = np.zeros((3,3), dtype=int)\n",
    "print(arr_2)"
   ]
  },
  {
   "cell_type": "code",
   "execution_count": null,
   "metadata": {},
   "outputs": [],
   "source": [
    "### Exercise 3:\n",
    "Create a NumPy array of 10 evenly spaced numbers between 0 and 5.\n",
    "\n"
   ]
  },
  {
   "cell_type": "code",
   "execution_count": 6,
   "metadata": {},
   "outputs": [
    {
     "name": "stdout",
     "output_type": "stream",
     "text": [
      "[0.         0.55555556 1.11111111 1.66666667 2.22222222 2.77777778\n",
      " 3.33333333 3.88888889 4.44444444 5.        ]\n"
     ]
    }
   ],
   "source": [
    "arr_3 = np.linspace(0, 5, 10)\n",
    "print(arr_3)"
   ]
  },
  {
   "cell_type": "markdown",
   "metadata": {},
   "source": [
    "### Exercise 4:\n",
    "Create a 5x5 identity matrix using NumPy.\n",
    "\n"
   ]
  },
  {
   "cell_type": "code",
   "execution_count": 4,
   "metadata": {},
   "outputs": [
    {
     "name": "stdout",
     "output_type": "stream",
     "text": [
      "[[1. 0. 0. 0. 0.]\n",
      " [0. 1. 0. 0. 0.]\n",
      " [0. 0. 1. 0. 0.]\n",
      " [0. 0. 0. 1. 0.]\n",
      " [0. 0. 0. 0. 1.]]\n"
     ]
    }
   ],
   "source": [
    "arr_4 = np.eye(5)\n",
    "print(arr_4)"
   ]
  },
  {
   "cell_type": "code",
   "execution_count": null,
   "metadata": {},
   "outputs": [],
   "source": [
    "### Exercise 5:\n",
    "Create a 4x4 matrix with random values between 0 and 1.\n",
    "\n"
   ]
  },
  {
   "cell_type": "code",
   "execution_count": 9,
   "metadata": {},
   "outputs": [
    {
     "data": {
      "text/plain": [
       "array([[0.10766007, 0.43465087, 0.43594775, 0.06878045],\n",
       "       [0.14907564, 0.23059946, 0.73086749, 0.75202604],\n",
       "       [0.27272877, 0.09146698, 0.85594369, 0.35919638],\n",
       "       [0.59791601, 0.32506971, 0.46799549, 0.52374055]])"
      ]
     },
     "execution_count": 9,
     "metadata": {},
     "output_type": "execute_result"
    }
   ],
   "source": [
    "arr_5 = np.random.random(size=(4,4))\n",
    "arr_5"
   ]
  },
  {
   "cell_type": "code",
   "execution_count": 29,
   "metadata": {},
   "outputs": [
    {
     "name": "stdout",
     "output_type": "stream",
     "text": [
      "[[0.77132064 0.02075195 0.63364823 0.74880388]\n",
      " [0.49850701 0.22479665 0.19806286 0.76053071]\n",
      " [0.16911084 0.08833981 0.68535982 0.95339335]\n",
      " [0.00394827 0.51219226 0.81262096 0.61252607]]\n"
     ]
    }
   ],
   "source": [
    "np.random.seed(10)\n",
    "\n",
    "A = np.random.rand(4,4)\n",
    "print(A)"
   ]
  },
  {
   "cell_type": "code",
   "execution_count": 30,
   "metadata": {},
   "outputs": [
    {
     "name": "stdout",
     "output_type": "stream",
     "text": [
      "[[0.5488135  0.71518937 0.60276338 0.54488318]\n",
      " [0.4236548  0.64589411 0.43758721 0.891773  ]\n",
      " [0.96366276 0.38344152 0.79172504 0.52889492]\n",
      " [0.56804456 0.92559664 0.07103606 0.0871293 ]]\n"
     ]
    }
   ],
   "source": [
    "np.random.seed(0)\n",
    "\n",
    "A = np.random.rand(4,4)\n",
    "print(A)"
   ]
  },
  {
   "cell_type": "code",
   "execution_count": 32,
   "metadata": {},
   "outputs": [
    {
     "name": "stdout",
     "output_type": "stream",
     "text": [
      "[[0.0202184  0.83261985 0.77815675 0.87001215]\n",
      " [0.97861834 0.79915856 0.46147936 0.78052918]\n",
      " [0.11827443 0.63992102 0.14335329 0.94466892]\n",
      " [0.52184832 0.41466194 0.26455561 0.77423369]]\n"
     ]
    }
   ],
   "source": [
    "A = np.random.rand(4,4)\n",
    "print(A)"
   ]
  },
  {
   "cell_type": "markdown",
   "metadata": {},
   "source": [
    "### Exercise 6:\n",
    "Find the shape of a NumPy array.\n",
    "\n"
   ]
  },
  {
   "cell_type": "code",
   "execution_count": 10,
   "metadata": {},
   "outputs": [
    {
     "name": "stdout",
     "output_type": "stream",
     "text": [
      "(4, 4)\n"
     ]
    }
   ],
   "source": [
    "# Taking array 5 as a case study\n",
    "\n",
    "shape_arr_5 = arr_5.shape\n",
    "print(shape_arr_5)"
   ]
  },
  {
   "cell_type": "markdown",
   "metadata": {},
   "source": [
    "### Exercise 7:\n",
    "Reshape a 1D NumPy array of 16 elements into a 4x4 matrix.\n"
   ]
  },
  {
   "cell_type": "code",
   "execution_count": 15,
   "metadata": {},
   "outputs": [
    {
     "name": "stdout",
     "output_type": "stream",
     "text": [
      "[0.66466201 0.98680201 0.61681605 0.85838945 0.37413289 0.2210334\n",
      " 0.87285313 0.80006862 0.41043326 0.94511739 0.01299138 0.91639767\n",
      " 0.87236837 0.09846056 0.10430629 0.52121421]\n",
      "[[0.66466201 0.98680201 0.61681605 0.85838945]\n",
      " [0.37413289 0.2210334  0.87285313 0.80006862]\n",
      " [0.41043326 0.94511739 0.01299138 0.91639767]\n",
      " [0.87236837 0.09846056 0.10430629 0.52121421]]\n"
     ]
    }
   ],
   "source": [
    "arr_61d = np.random.random(16)\n",
    "print(arr_61d)\n",
    "\n",
    "\n",
    "arr_61d = arr_61d.reshape(4,4)\n",
    "print(arr_61d)"
   ]
  },
  {
   "cell_type": "markdown",
   "metadata": {},
   "source": [
    "### Exercise 8:\n",
    "Find the data type of the elements in a NumPy array.\n",
    "\n"
   ]
  },
  {
   "cell_type": "code",
   "execution_count": 17,
   "metadata": {},
   "outputs": [
    {
     "name": "stdout",
     "output_type": "stream",
     "text": [
      "<class 'numpy.ndarray'>\n",
      "float64\n"
     ]
    }
   ],
   "source": [
    "# Taking array 7 as a case study\n",
    "print(type(arr_61d))\n",
    "\n",
    "print(arr_61d.dtype)\n"
   ]
  },
  {
   "cell_type": "markdown",
   "metadata": {},
   "source": [
    "### Exercise 9:\n",
    "Create a NumPy array of integers from 1 to 100 and find all even numbers in the array.\n",
    "\n"
   ]
  },
  {
   "cell_type": "code",
   "execution_count": 35,
   "metadata": {},
   "outputs": [
    {
     "name": "stdout",
     "output_type": "stream",
     "text": [
      "[  2   4   6   8  10  12  14  16  18  20  22  24  26  28  30  32  34  36\n",
      "  38  40  42  44  46  48  50  52  54  56  58  60  62  64  66  68  70  72\n",
      "  74  76  78  80  82  84  86  88  90  92  94  96  98 100]\n"
     ]
    }
   ],
   "source": [
    "# arr_7 = np.arange(1, 101)\n",
    "\n",
    "even_7 = np.array([num for num in np.arange(1,101) if num%2==0])\n",
    "print(even_7)"
   ]
  },
  {
   "cell_type": "code",
   "execution_count": null,
   "metadata": {},
   "outputs": [],
   "source": [
    "# Another Solution"
   ]
  },
  {
   "cell_type": "code",
   "execution_count": 37,
   "metadata": {},
   "outputs": [
    {
     "name": "stdout",
     "output_type": "stream",
     "text": [
      "[  2   4   6   8  10  12  14  16  18  20  22  24  26  28  30  32  34  36\n",
      "  38  40  42  44  46  48  50  52  54  56  58  60  62  64  66  68  70  72\n",
      "  74  76  78  80  82  84  86  88  90  92  94  96  98 100]\n"
     ]
    }
   ],
   "source": [
    "even_9b = np.arange(2, 101, 2)\n",
    "print(even_9b)"
   ]
  },
  {
   "cell_type": "markdown",
   "metadata": {},
   "source": [
    "### Exercise 10:\n",
    "Generate a 6x6 matrix of random integers between 10 and 50.\n",
    "\n"
   ]
  },
  {
   "cell_type": "code",
   "execution_count": 22,
   "metadata": {},
   "outputs": [
    {
     "name": "stdout",
     "output_type": "stream",
     "text": [
      "[[23 24 41 17 40 27]\n",
      " [38 21 20 24 20 52]\n",
      " [25 46 29 25 48 11]\n",
      " [53 43 30 49 40 53]\n",
      " [29 50 17 16 35 48]\n",
      " [14 15 52 43 10 47]]\n"
     ]
    }
   ],
   "source": [
    "arr_10 = np.random.randint(10, 60, size=(6, 6))\n",
    "\n",
    "print(arr_10)"
   ]
  },
  {
   "cell_type": "markdown",
   "metadata": {},
   "source": [
    "### Exercise 11:\n",
    "Slice a 2D NumPy array to extract a submatrix.\n"
   ]
  },
  {
   "cell_type": "code",
   "execution_count": 24,
   "metadata": {},
   "outputs": [
    {
     "name": "stdout",
     "output_type": "stream",
     "text": [
      "[3 6 9]\n"
     ]
    }
   ],
   "source": [
    "arr_11 = np.array([[1, 2, 3], [4, 5, 6], [7, 8, 9]])\n",
    "\n",
    "arr_11b = arr_11[:, 2] # This means give me all the rows in column 3 (whose index is zero)\n",
    "print(arr_11b) "
   ]
  },
  {
   "cell_type": "markdown",
   "metadata": {},
   "source": [
    "### Exercise 12:\n",
    "Calculate the sum of all elements in a NumPy array.\n"
   ]
  },
  {
   "cell_type": "code",
   "execution_count": 25,
   "metadata": {},
   "outputs": [
    {
     "name": "stdout",
     "output_type": "stream",
     "text": [
      "45\n"
     ]
    }
   ],
   "source": [
    "# Taking array 11 as a reference\n",
    "\n",
    "sum_11 = np.sum(arr_11)\n",
    "print(sum_11)"
   ]
  },
  {
   "cell_type": "markdown",
   "metadata": {},
   "source": [
    "### Exercise 13:\n",
    "Calculate the mean, median, and standard deviation of a NumPy array.\n",
    "\n"
   ]
  },
  {
   "cell_type": "code",
   "execution_count": 27,
   "metadata": {},
   "outputs": [
    {
     "name": "stdout",
     "output_type": "stream",
     "text": [
      "[[12 48 24]\n",
      " [34 15 31]\n",
      " [21 47 11]]\n",
      "Mean: 27.0\n",
      "Median: 24.0\n",
      "Standard Deviation: 13.232955494186138\n"
     ]
    }
   ],
   "source": [
    "arr_13 = np.random.randint(10, 50, size=(3,3))\n",
    "\n",
    "print(arr_13)\n",
    "\n",
    "mean_13 = np.mean(arr_13)\n",
    "\n",
    "median_13 = np.median(arr_13)\n",
    "\n",
    "std_dev_13 = np.std(arr_13)\n",
    "\n",
    "print(\"Mean:\", mean_13)\n",
    "print(\"Median:\", median_13)\n",
    "print(\"Standard Deviation:\", std_dev_13)"
   ]
  },
  {
   "cell_type": "markdown",
   "metadata": {},
   "source": [
    "### Exercise 14:\n",
    "Find the maximum and minimum values in a NumPy array.\n",
    "\n"
   ]
  },
  {
   "cell_type": "code",
   "execution_count": 39,
   "metadata": {},
   "outputs": [
    {
     "name": "stdout",
     "output_type": "stream",
     "text": [
      "[[64 69  0 50 36]\n",
      " [34 48  3 42 77]\n",
      " [21 73  0 10 43]\n",
      " [58 23 59  2 62]\n",
      " [35 67 82 46 20]]\n",
      "Maximum: 82\n",
      "Minimum: 0\n"
     ]
    }
   ],
   "source": [
    "arr_14 = np.random.randint(0, 90, size=(5,5))\n",
    "print(arr_14)\n",
    "\n",
    "max_14 = np.max(arr_14)\n",
    "\n",
    "min_14 = np.min(arr_14)\n",
    "\n",
    "print(\"Maximum:\", max_14)\n",
    "\n",
    "print(\"Minimum:\", min_14)"
   ]
  },
  {
   "cell_type": "markdown",
   "metadata": {},
   "source": [
    "### Exercise 15:\n",
    "Create a NumPy array of 20 random integers and find the index of the maximum value.\n"
   ]
  },
  {
   "cell_type": "code",
   "execution_count": 48,
   "metadata": {},
   "outputs": [
    {
     "name": "stdout",
     "output_type": "stream",
     "text": [
      "[39 61 85 97 44 34 34 88 33  5 36  0 75 34 69 53 80 62  8 61]\n",
      "Index of Maximum: 3\n",
      "Value of Maimum: 97\n"
     ]
    }
   ],
   "source": [
    "arr_15 = np.random.randint(100, size=(20,))\n",
    "\n",
    "print(arr_15)\n",
    "\n",
    "max_index_15 = np.argmax(arr_15)\n",
    "\n",
    "print(\"Index of Maximum:\", max_index_15)\n",
    "print(\"Value of Maimum:\", arr_15[max_index_15])\n",
    "\n",
    "# min_index_15 = np.argmin(arr_15)\n",
    "# print(\"Index of Minimum:\", min_index_15)\n",
    "\n",
    "# print(\"Maximum:\", arr_15[max_index_15])\n",
    "# print(\"Minimum: \", arr_15[min_index_15])"
   ]
  },
  {
   "cell_type": "code",
   "execution_count": null,
   "metadata": {},
   "outputs": [],
   "source": [
    "### Exercise 16:\n",
    "Create a NumPy array and reverse its elements.\n",
    "\n"
   ]
  },
  {
   "cell_type": "code",
   "execution_count": 52,
   "metadata": {},
   "outputs": [
    {
     "name": "stdout",
     "output_type": "stream",
     "text": [
      "[ 1  2  3  4  5  6  7  8  9 10]\n",
      "[10  9  8  7  6  5  4  3  2  1]\n",
      "<class 'numpy.ndarray'>\n"
     ]
    }
   ],
   "source": [
    "arr_16 = np.arange(1,11)\n",
    "print(arr_16)\n",
    "\n",
    "#reversed array\n",
    "\n",
    "reversed_arr_16 = arr_16[::-1]\n",
    "print(reversed_arr_16)\n",
    "print(type(reversed_arr_16))"
   ]
  },
  {
   "cell_type": "markdown",
   "metadata": {},
   "source": [
    "### Exercise 17:\n",
    "Create a 3x3 matrix and multiply it element-wise by another 3x3 matrix.\n",
    "\n"
   ]
  },
  {
   "cell_type": "code",
   "execution_count": 59,
   "metadata": {},
   "outputs": [
    {
     "name": "stdout",
     "output_type": "stream",
     "text": [
      "[[ 9 16 21]\n",
      " [24 25 24]\n",
      " [21 16  9]]\n",
      "[[ 9 16 21]\n",
      " [24 25 24]\n",
      " [21 16  9]]\n"
     ]
    }
   ],
   "source": [
    "arr_17a = np.array([[1, 2, 3], [4, 5, 6], [7, 8, 9]])\n",
    "\n",
    "arr_17b = np.array([[9, 8, 7], [6, 5, 4], [3, 2, 1]])\n",
    "\n",
    "arr_17c = arr_17a * arr_17b\n",
    "# arr_17cii = arr_17a.dot(arr_17b) #not matrix multiplication\n",
    "arr_17cii = np.multiply(arr_17a, arr_17b) #elementwise multiplication\n",
    "\n",
    "print(arr_17c)\n",
    "print(arr_17cii)"
   ]
  },
  {
   "cell_type": "code",
   "execution_count": null,
   "metadata": {},
   "outputs": [],
   "source": [
    "### Exercise 18:\n",
    "Create a diagonal matrix from a given 1D array.\n",
    "\n"
   ]
  },
  {
   "cell_type": "code",
   "execution_count": 62,
   "metadata": {},
   "outputs": [
    {
     "data": {
      "text/plain": [
       "array([[1, 0, 0],\n",
       "       [0, 2, 0],\n",
       "       [0, 0, 3]])"
      ]
     },
     "execution_count": 62,
     "metadata": {},
     "output_type": "execute_result"
    }
   ],
   "source": [
    "arr_18 = np.array([1, 2, 3])\n",
    "\n",
    "diagonal_arr_18 = np.diag(arr_18)\n",
    "print(diagonal_arr_18)"
   ]
  },
  {
   "cell_type": "code",
   "execution_count": null,
   "metadata": {},
   "outputs": [],
   "source": [
    "### Exercise 19:\n",
    "Perform matrix multiplication on two 2D NumPy arrays.\n"
   ]
  },
  {
   "cell_type": "code",
   "execution_count": 64,
   "metadata": {},
   "outputs": [
    {
     "name": "stdout",
     "output_type": "stream",
     "text": [
      "[[20 28]\n",
      " [48 68]]\n"
     ]
    }
   ],
   "source": [
    "arr_19a = np.array([[1,3], [3,7]])\n",
    "arr_19b = np.array([[2,4], [6, 8]])\n",
    "\n",
    "arr_19c = np.dot(arr_19a, arr_19b)\n",
    "\n",
    "print(arr_19c)"
   ]
  },
  {
   "cell_type": "code",
   "execution_count": null,
   "metadata": {},
   "outputs": [],
   "source": [
    "### Exercise 20:\n",
    "Flatten a 2D NumPy array into a 1D array.\n",
    "\n"
   ]
  },
  {
   "cell_type": "code",
   "execution_count": 86,
   "metadata": {},
   "outputs": [
    {
     "name": "stdout",
     "output_type": "stream",
     "text": [
      "[[  1   2   3   4   5   6   7   8   9  10]\n",
      " [ 11  12  13  14  15  16  17  18  19  20]\n",
      " [ 21  22  23  24  25  26  27  28  29  30]\n",
      " [ 31  32  33  34  35  36  37  38  39  40]\n",
      " [ 41  42  43  44  45  46  47  48  49  50]\n",
      " [ 51  52  53  54  55  56  57  58  59  60]\n",
      " [ 61  62  63  64  65  66  67  68  69  70]\n",
      " [ 71  72  73  74  75  76  77  78  79  80]\n",
      " [ 81  82  83  84  85  86  87  88  89  90]\n",
      " [ 91  92  93  94  95  96  97  98  99 100]] 100\n",
      "100\n",
      "[  1   2   3   4   5   6   7   8   9  10  11  12  13  14  15  16  17  18\n",
      "  19  20  21  22  23  24  25  26  27  28  29  30  31  32  33  34  35  36\n",
      "  37  38  39  40  41  42  43  44  45  46  47  48  49  50  51  52  53  54\n",
      "  55  56  57  58  59  60  61  62  63  64  65  66  67  68  69  70  71  72\n",
      "  73  74  75  76  77  78  79  80  81  82  83  84  85  86  87  88  89  90\n",
      "  91  92  93  94  95  96  97  98  99 100]\n",
      "[  1   2   3   4   5   6   7   8   9  10  11  12  13  14  15  16  17  18\n",
      "  19  20  21  22  23  24  25  26  27  28  29  30  31  32  33  34  35  36\n",
      "  37  38  39  40  41  42  43  44  45  46  47  48  49  50  51  52  53  54\n",
      "  55  56  57  58  59  60  61  62  63  64  65  66  67  68  69  70  71  72\n",
      "  73  74  75  76  77  78  79  80  81  82  83  84  85  86  87  88  89  90\n",
      "  91  92  93  94  95  96  97  98  99 100]\n",
      "True\n"
     ]
    }
   ],
   "source": [
    "# make a 2d array\n",
    "arr_20 = np.arange(1, 101, 1)\n",
    "arr_20a = arr_20.reshape(10,10)\n",
    "\n",
    "print(arr_20a, arr_20a.size) # to see how the array is reshaped and to see its size\n",
    "\n",
    "print(arr_20.size) # This returns the length of the array\n",
    "\n",
    "# flattened array\n",
    "arr_20b = arr_20a.reshape(arr_20a.size,)\n",
    "print(arr_20b)\n",
    "\n",
    "# or we can flatten the array with\n",
    "print(arr_20a.flatten())\n",
    "\n",
    "# Test for equivalence\n",
    "print(np.array_equal(arr_20, arr_20b)) # should return True\n",
    "# print(arr_20 == arr_20b) # returns True for all the elements\n",
    "# print(arr_20a.flatten() == arr_20b) # should return True for all the elements"
   ]
  },
  {
   "cell_type": "code",
   "execution_count": null,
   "metadata": {},
   "outputs": [],
   "source": [
    "### Exercise 21:\n",
    "Stack two NumPy arrays vertically.\n",
    "\n"
   ]
  },
  {
   "cell_type": "code",
   "execution_count": 91,
   "metadata": {},
   "outputs": [
    {
     "name": "stdout",
     "output_type": "stream",
     "text": [
      "[[ 1  2  3  4  5]\n",
      " [ 6  7  8  9 10]]\n"
     ]
    }
   ],
   "source": [
    "\n",
    "arr_21a  = np.array([1,2,3,4,5])\n",
    "\n",
    "arr_21b  = np.array([6,7,8,9,10])\n",
    "\n",
    "arr_21c = np.vstack((arr_21a, arr_21b)) #or\n",
    "# arr_21c = np.concatenate((arr_21a, arr_21b), axis=1) #gives horizontal stacking for 1d arrays, but for 2d arrays, gives vertical stacking\n",
    "# arr_21c = np.concatenate((arr_21a[np.newaxis, :], arr_21b[np.newaxis, :]), axis=0) # tricks the concatenation into believeing that we're stacking 2d arrays, so gives vertical stacking\n",
    "# but all in all, vstack is the desired choice.\n",
    "\n",
    "print(arr_21c)"
   ]
  },
  {
   "cell_type": "code",
   "execution_count": null,
   "metadata": {},
   "outputs": [],
   "source": [
    "### Exercise 22:\n",
    "Stack two NumPy arrays horizontally.\n"
   ]
  },
  {
   "cell_type": "code",
   "execution_count": 92,
   "metadata": {},
   "outputs": [
    {
     "name": "stdout",
     "output_type": "stream",
     "text": [
      "[ 1  2  3  4  5  6  7  8  9 10]\n"
     ]
    }
   ],
   "source": [
    "arr_22a  = np.array([1,2,3,4,5])\n",
    "\n",
    "arr_22b  = np.array([6,7,8,9,10])\n",
    "\n",
    "arr_22c = np.hstack((arr_22a, arr_22b))\n",
    "print(arr_22c)"
   ]
  },
  {
   "cell_type": "code",
   "execution_count": null,
   "metadata": {},
   "outputs": [],
   "source": [
    "### Exercise 23:\n",
    "Split a NumPy array into multiple sub-arrays.\n",
    "\n"
   ]
  },
  {
   "cell_type": "code",
   "execution_count": 110,
   "metadata": {},
   "outputs": [
    {
     "name": "stdout",
     "output_type": "stream",
     "text": [
      "Columnwise:  [array([[1, 2, 3, 4, 5]]), array([[ 6,  7,  8,  9, 10]]), array([[11, 12, 13, 14, 15]])]\n",
      "Rowwise:  [array([[ 1],\n",
      "       [ 6],\n",
      "       [11]]), array([[ 2],\n",
      "       [ 7],\n",
      "       [12]]), array([[ 3],\n",
      "       [ 8],\n",
      "       [13]]), array([[ 4],\n",
      "       [ 9],\n",
      "       [14]]), array([[ 5],\n",
      "       [10],\n",
      "       [15]])]\n"
     ]
    }
   ],
   "source": [
    "arr_23a = np.array([[1,2,3,4,5], [6,7,8,9,10], [11,12,13,14,15]])\n",
    "\n",
    "# arr_23b = np.hsplit(arr_23a, 5) # This performs columwise splitting\n",
    "\n",
    "# print(arr_23b)\n",
    "\n",
    "# for i, arr in enumerate(arr_23b):\n",
    "#     print(f'Sub-array {i+1}:')\n",
    "#     print(arr)\n",
    "#     print('---')\n",
    "\n",
    "# or \n",
    "arr_23c = np.split(arr_23a, 3, axis=0) # column wise split, use number of rows probably similar to vsplit()\n",
    "arr_23d = np.split(arr_23a, 5, axis=1) # column wise split, for rowwise split, use number of columns, this is similar to hsplit()\n",
    "# print(arr_23c)\n",
    "print(\"Columnwise: \", arr_23c)\n",
    "print(\"Rowwise: \", arr_23d)"
   ]
  },
  {
   "cell_type": "markdown",
   "metadata": {},
   "source": [
    "### Exercise 24:\n",
    "Generate a random NumPy array and round each element to two decimal places.\n",
    "\n"
   ]
  },
  {
   "cell_type": "code",
   "execution_count": 113,
   "metadata": {},
   "outputs": [
    {
     "name": "stdout",
     "output_type": "stream",
     "text": [
      "Original Array:\n",
      "[[0.73085581 0.25394164 0.21331198 0.51820071 0.02566272]\n",
      " [0.20747008 0.42468547 0.37416998 0.46357542 0.27762871]\n",
      " [0.58678435 0.86385561 0.11753186 0.51737911 0.13206811]\n",
      " [0.71685968 0.3960597  0.56542131 0.18327984 0.14484776]\n",
      " [0.48805628 0.35561274 0.94043195 0.76532525 0.74866362]]\n",
      "\n",
      "Array with rounded elements:\n",
      "[[0.73 0.25 0.21 0.52 0.03]\n",
      " [0.21 0.42 0.37 0.46 0.28]\n",
      " [0.59 0.86 0.12 0.52 0.13]\n",
      " [0.72 0.4  0.57 0.18 0.14]\n",
      " [0.49 0.36 0.94 0.77 0.75]]\n"
     ]
    }
   ],
   "source": [
    "arr_24 = np.random.rand(5,5)\n",
    "\n",
    "print(\"Original Array:\")\n",
    "print(arr_24)\n",
    "\n",
    "print(\"\\nArray with rounded elements:\")\n",
    "arr_24_rounded = np.round(arr_24, 2)\n",
    "\n",
    "print(arr_24_rounded)"
   ]
  },
  {
   "cell_type": "markdown",
   "metadata": {},
   "source": [
    "### Exercise 25:\n",
    "Find the unique elements of a NumPy array.\n"
   ]
  },
  {
   "cell_type": "code",
   "execution_count": 114,
   "metadata": {},
   "outputs": [
    {
     "name": "stdout",
     "output_type": "stream",
     "text": [
      "Original Array:\n",
      "[1 2 3 2 3 4 5 6 2 3]\n",
      "\n",
      "Unique Elements:\n",
      "[1 2 3 4 5 6]\n"
     ]
    }
   ],
   "source": [
    "\n",
    "arr_25 = np.array([1, 2, 3, 2, 3, 4, 5, 6, 2, 3])\n",
    "\n",
    "unique_arr_25 = np.unique(arr_25)\n",
    "\n",
    "print(\"Original Array:\")\n",
    "\n",
    "print(arr_25)\n",
    "\n",
    "print(\"\\nUnique Elements:\")\n",
    "\n",
    "print(unique_arr_25)"
   ]
  },
  {
   "cell_type": "code",
   "execution_count": null,
   "metadata": {},
   "outputs": [],
   "source": [
    "### Exercise 26:\n",
    "Replace all elements in a NumPy array that are less than a specific value with that value.\n"
   ]
  },
  {
   "cell_type": "code",
   "execution_count": 9,
   "metadata": {},
   "outputs": [
    {
     "name": "stdout",
     "output_type": "stream",
     "text": [
      "Original Array\n",
      "[13  8 15  7  1  3  1 10  4 11 14  1  6 16 12 16  9  5 14  2]\n",
      "Original Array\n",
      "[13  8 15  7  6  6  6 10  6 11 14  6  6 16 12 16  9  6 14  6]\n"
     ]
    }
   ],
   "source": [
    "# We can do this in two ways:\n",
    "# 1. Where?\n",
    "arr_26 = np.random.randint(1, 20, size=(20,))\n",
    "\n",
    "print(\"Original Array\")\n",
    "print(arr_26)\n",
    "\n",
    "arr_26 = np.where(arr_26<6, 6, arr_26)\n",
    "\n",
    "print(\"Replaced Array\")\n",
    "print(arr_26)"
   ]
  },
  {
   "cell_type": "code",
   "execution_count": 13,
   "metadata": {},
   "outputs": [
    {
     "name": "stdout",
     "output_type": "stream",
     "text": [
      "Original Array\n",
      "[17 10 10 18 11  2 17  6  5 15 13  1  9 13 16  3  2  3 12  1]\n",
      "Replaced AArray\n",
      "[17 10 10 18 11  6 17  6  6 15 13  6  9 13 16  6  6  6 12  6]\n"
     ]
    }
   ],
   "source": [
    "# 2. Booloean Mapping\n",
    "arr_26b = np.random.randint(1,20, size=(20,))\n",
    "\n",
    "print(\"Original Array\")\n",
    "print(arr_26b)\n",
    "\n",
    "arr_26b[arr_26b < 6] = 6\n",
    "\n",
    "print(\"Replaced AArray\")\n",
    "print(arr_26b)"
   ]
  },
  {
   "cell_type": "markdown",
   "metadata": {},
   "source": [
    "### Exercise 27:\n",
    "Find the cumulative sum of the elements in a NumPy array.\n"
   ]
  },
  {
   "cell_type": "code",
   "execution_count": 19,
   "metadata": {},
   "outputs": [
    {
     "name": "stdout",
     "output_type": "stream",
     "text": [
      "[ 1  2  3  4  5  6  7  8  9 10 11 12 13 14]\n",
      "[  1   3   6  10  15  21  28  36  45  55  66  78  91 105]\n"
     ]
    }
   ],
   "source": [
    "arr_27 = np.arange(1, 15)\n",
    "\n",
    "print(arr_27)\n",
    "\n",
    "cummulative_sum = np.cumsum(arr_27)\n",
    "print(cummulative_sum)"
   ]
  },
  {
   "cell_type": "markdown",
   "metadata": {},
   "source": [
    "### Exercise 28:\n",
    "Create a NumPy array and find the number of non-zero elements in it.\n"
   ]
  },
  {
   "cell_type": "code",
   "execution_count": 20,
   "metadata": {},
   "outputs": [
    {
     "name": "stdout",
     "output_type": "stream",
     "text": [
      "[[1 0 3]\n",
      " [0 4 0]\n",
      " [5 0 0]]\n",
      "Number of non-zero elements: 4\n"
     ]
    }
   ],
   "source": [
    "arr_28 = np.array([[1, 0, 3], [0, 4, 0], [5, 0, 0]])\n",
    "\n",
    "print(arr_28)\n",
    "\n",
    "non_zero_elements = np.count_nonzero(arr_28)\n",
    "\n",
    "print(f\"Number of non-zero elements: {non_zero_elements}\")"
   ]
  },
  {
   "cell_type": "code",
   "execution_count": null,
   "metadata": {},
   "outputs": [],
   "source": [
    "### Exercise 29:\n",
    "Create a NumPy array of random integers and sort it in ascending order.\n"
   ]
  },
  {
   "cell_type": "code",
   "execution_count": 30,
   "metadata": {},
   "outputs": [
    {
     "name": "stdout",
     "output_type": "stream",
     "text": [
      "[9 8 9 4 3 0 3 5 0 2]\n",
      "[0 0 2 3 3 4 5 8 9 9]\n"
     ]
    }
   ],
   "source": [
    "arr_29 = np.random.randint(10, size=(10,))\n",
    "\n",
    "print(arr_29)\n",
    "\n",
    "sorted_arr_29 = np.sort(arr_29)\n",
    "\n",
    "print(sorted_arr_29)"
   ]
  },
  {
   "cell_type": "markdown",
   "metadata": {},
   "source": [
    "### Exercise 30:\n",
    "Find the row-wise and column-wise sum of a 3x3 matrix.\n"
   ]
  },
  {
   "cell_type": "code",
   "execution_count": 38,
   "metadata": {},
   "outputs": [
    {
     "name": "stdout",
     "output_type": "stream",
     "text": [
      "Row Sums:\n",
      "[ 6 15 24]\n",
      "Column Sums:\n",
      "[12 15 18]\n"
     ]
    }
   ],
   "source": [
    "matrix_30 = np.array([[1,2,3], [4,5,6], [7,8,9]])\n",
    "\n",
    "row_sums_30 = np.sum(matrix_30, axis=1)\n",
    "\n",
    "column_sums_30 = np.sum(matrix_30, axis=0)\n",
    "\n",
    "print(\"Row Sums:\")\n",
    "\n",
    "print(row_sums_30)\n",
    "\n",
    "print(\"Column Sums:\")\n",
    "\n",
    "print(column_sums_30)"
   ]
  },
  {
   "cell_type": "markdown",
   "metadata": {},
   "source": [
    "### Exercise 31:\n",
    "Generate a 2D NumPy array with random values and normalize it (scale the values between 0 and 1).\n"
   ]
  },
  {
   "cell_type": "code",
   "execution_count": 42,
   "metadata": {},
   "outputs": [
    {
     "name": "stdout",
     "output_type": "stream",
     "text": [
      "Original Array:\n",
      "[[4 1 6 4 5]\n",
      " [9 2 6 7 9]]\n",
      "Normalized Array:\n",
      "[[0.375 0.    0.625 0.375 0.5  ]\n",
      " [1.    0.125 0.625 0.75  1.   ]]\n"
     ]
    }
   ],
   "source": [
    "# Min-Max Method...\n",
    "\n",
    "np.random.seed(45)\n",
    "\n",
    "array_31 = np.random.randint(1, 10, size=(2, 5))\n",
    "\n",
    "print(\"Original Array:\")\n",
    "\n",
    "print(array_31)\n",
    "\n",
    "\n",
    "normalized_array_31 = (array_31 - np.min(array_31)) / (np.max(array_31) - np.min(array_31))\n",
    "\n",
    "print(\"Normalized Array:\")\n",
    "\n",
    "print(normalized_array_31)"
   ]
  },
  {
   "cell_type": "code",
   "execution_count": 43,
   "metadata": {},
   "outputs": [
    {
     "name": "stdout",
     "output_type": "stream",
     "text": [
      "Original Array:\n",
      "[[4 1 6 4 5]\n",
      " [9 2 6 7 9]]\n",
      "Normalized Array:\n",
      "[[-0.51346913 -1.69839789  0.27648338 -0.51346913 -0.11849288]\n",
      " [ 1.46141214 -1.30342163  0.27648338  0.67145963  1.46141214]]\n"
     ]
    }
   ],
   "source": [
    "# Z score method standardizes\n",
    "np.random.seed(45)\n",
    "array_31b = np.random.randint(1, 10, size=(2, 5))\n",
    "\n",
    "print(\"Original Array:\")\n",
    "\n",
    "print(array_31b)\n",
    "\n",
    "mean_31b = np.mean(array_31b)\n",
    "\n",
    "std_dev_31b = np.std(array_31b)\n",
    "\n",
    "normalized_array_31b = (array_31b - mean_31b) / std_dev_31b\n",
    "\n",
    "print(\"Normalized Array:\")\n",
    "\n",
    "print(normalized_array_31b)"
   ]
  },
  {
   "cell_type": "code",
   "execution_count": null,
   "metadata": {},
   "outputs": [],
   "source": [
    "### Exercise 32:\n",
    "Create two NumPy arrays and find the dot product.\n",
    "\n"
   ]
  },
  {
   "cell_type": "code",
   "execution_count": 45,
   "metadata": {},
   "outputs": [
    {
     "name": "stdout",
     "output_type": "stream",
     "text": [
      "[[ 250  260  270  280]\n",
      " [ 618  644  670  696]\n",
      " [ 986 1028 1070 1112]\n",
      " [1354 1412 1470 1528]]\n"
     ]
    }
   ],
   "source": [
    "arr_31a = np.array([[1,2,3,4], [5,6,7,8], [9,10,11,12], [13,14,15,16]])\n",
    "\n",
    "arr_31b = np.array([[17,18,19,20], [21,22,23,24], [25,26,27,28], [29,30,31,32]])\n",
    "\n",
    "dot_product_31 = np.dot(arr_31a, arr_31b)\n",
    "\n",
    "print(dot_product_31)"
   ]
  },
  {
   "cell_type": "markdown",
   "metadata": {},
   "source": [
    "### Exercise 33:\n",
    "Find the trace of a square NumPy matrix.\n"
   ]
  },
  {
   "cell_type": "code",
   "execution_count": 66,
   "metadata": {},
   "outputs": [
    {
     "name": "stdout",
     "output_type": "stream",
     "text": [
      "[[ 4 15  6]\n",
      " [ 4  9 13]\n",
      " [15  1  6]]\n",
      "Trace of the matrix: 19\n"
     ]
    }
   ],
   "source": [
    "arr_33 = np.random.randint(16, size=(3,3))\n",
    "\n",
    "print(arr_33)\n",
    "\n",
    "trace_33 = np.trace(arr_33)\n",
    "\n",
    "print(f\"Trace of the matrix: {trace_33}\")"
   ]
  },
  {
   "cell_type": "markdown",
   "metadata": {},
   "source": [
    "### Exercise 34:\n",
    "Create a 2D array and swap two rows.\n"
   ]
  },
  {
   "cell_type": "code",
   "execution_count": 63,
   "metadata": {},
   "outputs": [
    {
     "name": "stdout",
     "output_type": "stream",
     "text": [
      "Original Array:\n",
      "[[1 2 3]\n",
      " [4 5 6]\n",
      " [7 8 9]]\n",
      "Swapped Array:\n",
      "[[1 2 3]\n",
      " [7 8 9]\n",
      " [4 5 6]]\n"
     ]
    }
   ],
   "source": [
    "arr_34 = np.array([[1,2,3], [4,5,6], [7,8,9]])\n",
    "\n",
    "print(\"Original Array:\")\n",
    "\n",
    "print(arr_34)\n",
    "\n",
    "arr_34[[1,2]] = arr_34[[2,1]] # swaps row to with row three\n",
    "\n",
    "print(\"Swapped Array:\")\n",
    "\n",
    "print(arr_34)"
   ]
  },
  {
   "cell_type": "code",
   "execution_count": 62,
   "metadata": {},
   "outputs": [
    {
     "name": "stdout",
     "output_type": "stream",
     "text": [
      "[[1 2 3]\n",
      " [7 8 9]\n",
      " [4 5 6]]\n"
     ]
    }
   ],
   "source": [
    "# Playing Aroun\n",
    "# # arr_34[[0, 2]]\n",
    "# arr_34[0:3] = arr_34[[2, 1, 0]]\n",
    "\n",
    "# print(arr_34)"
   ]
  },
  {
   "cell_type": "markdown",
   "metadata": {},
   "source": [
    "### Exercise 35:\n",
    "Create a 1D NumPy array and convert it into a column vector.\n"
   ]
  },
  {
   "cell_type": "code",
   "execution_count": 69,
   "metadata": {},
   "outputs": [
    {
     "name": "stdout",
     "output_type": "stream",
     "text": [
      "[ 3  6  9 12 15]\n",
      "[[ 3]\n",
      " [ 6]\n",
      " [ 9]\n",
      " [12]\n",
      " [15]]\n"
     ]
    }
   ],
   "source": [
    "arr_35 = np.array([x for x in range(2,16) if x%3 == 0])\n",
    "print(arr_35)\n",
    "\n",
    "column_vector_35 = arr_35[:, np.newaxis]\n",
    "\n",
    "print(column_vector_35)"
   ]
  },
  {
   "cell_type": "code",
   "execution_count": 70,
   "metadata": {},
   "outputs": [
    {
     "name": "stdout",
     "output_type": "stream",
     "text": [
      "[[ 3]\n",
      " [ 6]\n",
      " [ 9]\n",
      " [12]\n",
      " [15]]\n"
     ]
    }
   ],
   "source": [
    "# Or\n",
    "\n",
    "column_vector_35b = arr_35.reshape(-1, 1)\n",
    "\n",
    "print(column_vector_35b)"
   ]
  },
  {
   "cell_type": "code",
   "execution_count": 71,
   "metadata": {},
   "outputs": [
    {
     "name": "stdout",
     "output_type": "stream",
     "text": [
      "[[ 3]\n",
      " [ 6]\n",
      " [ 9]\n",
      " [12]\n",
      " [15]]\n"
     ]
    }
   ],
   "source": [
    "column_vector_35c = np.atleast_2d(arr_35).T\n",
    "print(column_vector_35c)"
   ]
  },
  {
   "cell_type": "markdown",
   "metadata": {},
   "source": [
    "### Exercise 36:\n",
    "Find the determinant of a 3x3 matrix.\n"
   ]
  },
  {
   "cell_type": "code",
   "execution_count": 75,
   "metadata": {},
   "outputs": [
    {
     "name": "stdout",
     "output_type": "stream",
     "text": [
      "[[1 0 0]\n",
      " [0 6 0]\n",
      " [0 0 9]]\n",
      "Determinant: 54.00000000000001\n"
     ]
    }
   ],
   "source": [
    "np.random.seed(0)\n",
    "\n",
    "# matrix_36 = np.random.randint(1, 45, size=(3, 3))\n",
    "matrix_36 = np.array([[1,0,0], [0,6,0], [0,0,9]], dtype=np.int32)\n",
    "\n",
    "print(matrix_36)\n",
    "\n",
    "print(\"Determinant:\", np.linalg.det(matrix_36)) # Why is the decimal place like this?"
   ]
  },
  {
   "cell_type": "markdown",
   "metadata": {},
   "source": [
    "### Exercise 37:\n",
    "Find the eigenvalues and eigenvectors of a 2x2 matrix.\n"
   ]
  },
  {
   "cell_type": "code",
   "execution_count": 76,
   "metadata": {},
   "outputs": [
    {
     "name": "stdout",
     "output_type": "stream",
     "text": [
      "Eigenvalues:\n",
      "[3. 1.]\n",
      "Eigenvectors:\n",
      "[[ 0.70710678  0.70710678]\n",
      " [-0.70710678  0.70710678]]\n"
     ]
    }
   ],
   "source": [
    "# Create a 2 by 2 matrix\n",
    "\n",
    "matrix_37 = np.array([[2, -1], [-1, 2]])\n",
    "\n",
    "eigenvalues, eigenvectors = np.linalg.eig(matrix_37)\n",
    "\n",
    "print(\"Eigenvalues:\")\n",
    "\n",
    "print(eigenvalues)\n",
    "\n",
    "print(\"Eigenvectors:\")\n",
    "\n",
    "print(eigenvectors)"
   ]
  },
  {
   "cell_type": "markdown",
   "metadata": {},
   "source": [
    "### Exercise 38:\n",
    "Solve a system of linear equations using NumPy.\n"
   ]
  },
  {
   "cell_type": "code",
   "execution_count": null,
   "metadata": {},
   "outputs": [],
   "source": [
    "# Create the coefficient matrix and the constant vector \n",
    "\n",
    "coefficient_matrix = np.array([[2, 3], [-1, 4]])\n",
    "\n",
    "constant_vector = np.array([5, 6])\n",
    "\n",
    "solution = np.linalg.solve(coefficient_matrix, constant_vector)\n",
    "\n",
    "print(\"Solution:\")"
   ]
  },
  {
   "cell_type": "markdown",
   "metadata": {},
   "source": [
    "### Exercise 39:\n",
    "Add Gaussian noise to a NumPy array.\n"
   ]
  },
  {
   "cell_type": "code",
   "execution_count": 85,
   "metadata": {},
   "outputs": [
    {
     "name": "stdout",
     "output_type": "stream",
     "text": [
      "Original Array:\n",
      "[[45 48 65 68]\n",
      " [68 10 84 22]\n",
      " [37 88 71 89]\n",
      " [89 13 59 66]]\n",
      "Noisy Array:\n",
      "[[46.44043571 62.54273507 72.61037725 69.21675016]\n",
      " [72.43863233 13.33674327 98.94079073 19.94841736]\n",
      " [40.13067702 79.45904261 45.47010184 95.53618595]\n",
      " [97.64436199  5.5783498  81.69754624 51.45634325]]\n"
     ]
    }
   ],
   "source": [
    "np.random.seed(0)\n",
    "\n",
    "arr_39 = np.random.randint(1, 100, size=(4, 4))\n",
    "\n",
    "print(\"Original Array:\")\n",
    "\n",
    "print(arr_39)\n",
    "\n",
    "noise_level = 10\n",
    "\n",
    "# print(arr_39.shape)\n",
    "\n",
    "noisy_array_39 = arr_39 + np.random.normal(scale=noise_level, size=arr_39.shape)\n",
    "\n",
    "print(\"Noisy Array:\")\n",
    "\n",
    "print(noisy_array_39)"
   ]
  },
  {
   "cell_type": "code",
   "execution_count": null,
   "metadata": {},
   "outputs": [],
   "source": [
    "### Exercise 40:\n",
    "Create a 4x4 matrix and extract the diagonal elements.\n",
    "\n"
   ]
  },
  {
   "cell_type": "code",
   "execution_count": 92,
   "metadata": {},
   "outputs": [
    {
     "name": "stdout",
     "output_type": "stream",
     "text": [
      "[[  1]\n",
      " [ 44]\n",
      " [777]]\n"
     ]
    }
   ],
   "source": [
    "arr_40 = np.array([[1,4,7], [11,44,77], [111, 444, 777]])\n",
    "\n",
    "diag_40 = np.diag(arr_40).reshape(1,-1).T # i intentionally added the .reshape(1,-1).T to transpose the row vector initially returned\n",
    "\n",
    "print(diag_40)"
   ]
  },
  {
   "cell_type": "code",
   "execution_count": null,
   "metadata": {},
   "outputs": [],
   "source": [
    "### Exercise 41:\n",
    "Generate a NumPy array of 100 random values and clip the values to a range between 10 and 50.\n"
   ]
  },
  {
   "cell_type": "code",
   "execution_count": 95,
   "metadata": {},
   "outputs": [
    {
     "name": "stdout",
     "output_type": "stream",
     "text": [
      "Original Array:\n",
      "[45 48 65 68 68 10 84 22 37 88 71 89 89 13 59 66 40 88 47 89 82 38 26 78\n",
      " 73 10 21 81 70 80 48 65 83 89 50 30 20 20 15 40 33 66 10 58 33 32 75 24\n",
      " 36 76 56 29 35  1  1 37 54  6 39 18 80  5 43 59 32  2 66 42 58 36 12 47\n",
      " 83 92  1 15 54 13 43 85 76 69  7 69 48  4 77 53 79 16 21 59 24 80 14 86\n",
      " 49 50 70 42]\n",
      "Clipped Array:\n",
      "[45 48 50 50 50 10 50 22 37 50 50 50 50 13 50 50 40 50 47 50 50 38 26 50\n",
      " 50 10 21 50 50 50 48 50 50 50 50 30 20 20 15 40 33 50 10 50 33 32 50 24\n",
      " 36 50 50 29 35 10 10 37 50 10 39 18 50 10 43 50 32 10 50 42 50 36 12 47\n",
      " 50 50 10 15 50 13 43 50 50 50 10 50 48 10 50 50 50 16 21 50 24 50 14 50\n",
      " 49 50 50 42]\n"
     ]
    }
   ],
   "source": [
    "np.random.seed(0)\n",
    "\n",
    "arr_41 = np.random.randint(1, 100, size=100)\n",
    "\n",
    "print(\"Original Array:\")\n",
    "print(arr_41)\n",
    "\n",
    "print(\"Clipped Array:\")\n",
    "clipped_arr_41 = np.clip(arr_41, a_min=10, a_max=50)\n",
    "\n",
    "print(clipped_arr_41)"
   ]
  },
  {
   "cell_type": "code",
   "execution_count": null,
   "metadata": {},
   "outputs": [],
   "source": [
    "### Exercise 42:\n",
    "Create a 2D NumPy array and replace all negative values with zero.\n"
   ]
  },
  {
   "cell_type": "code",
   "execution_count": 96,
   "metadata": {},
   "outputs": [
    {
     "name": "stdout",
     "output_type": "stream",
     "text": [
      "Original Array:\n",
      "[[ 1 -2  3]\n",
      " [-4  5 -6]\n",
      " [ 7  8 -9]]\n",
      "Modified Array:\n",
      "[[1 0 3]\n",
      " [0 5 0]\n",
      " [7 8 0]]\n"
     ]
    }
   ],
   "source": [
    "arr_42 = np.array([[1, -2, 3], [-4, 5, -6], [7, 8, -9]])\n",
    "\n",
    "print(\"Original Array:\")\n",
    "\n",
    "print(arr_42)\n",
    "\n",
    "arr_42[arr_42 < 0] = 0\n",
    "\n",
    "\n",
    "print(\"Modified Array:\")\n",
    "\n",
    "print(arr_42)"
   ]
  },
  {
   "cell_type": "code",
   "execution_count": null,
   "metadata": {},
   "outputs": [],
   "source": [
    "### Exercise 43:\n",
    "Find the inner and outer products of two NumPy arrays.\n",
    "\n",
    "\n"
   ]
  },
  {
   "cell_type": "code",
   "execution_count": 98,
   "metadata": {},
   "outputs": [
    {
     "name": "stdout",
     "output_type": "stream",
     "text": [
      "Inner Product (AB): 217\n",
      "Outer Product (AB): [[ 7  8  9 10 11 12]\n",
      " [14 16 18 20 22 24]\n",
      " [21 24 27 30 33 36]\n",
      " [28 32 36 40 44 48]\n",
      " [35 40 45 50 55 60]\n",
      " [42 48 54 60 66 72]]\n"
     ]
    }
   ],
   "source": [
    "arr_43a = np.array([1, 2, 3, 4,5,6])\n",
    "\n",
    "arr_43b = np.array([7, 8, 9,10, 11, 12])\n",
    "\n",
    "inner_prod_ab43 = np.inner(arr_43a, arr_43b)\n",
    " \n",
    "outer_prod_ab43 = np.outer(arr_43a, arr_43b)\n",
    "\n",
    "print(\"Inner Product (AB):\", inner_prod_ab43)\n",
    "\n",
    "print(\"Outer Product (AB):\", outer_prod_ab43)"
   ]
  },
  {
   "cell_type": "code",
   "execution_count": null,
   "metadata": {},
   "outputs": [],
   "source": [
    "### Exercise 44:\n",
    "Calculate the pairwise distances between points in a NumPy array.\n",
    "\n",
    "```python\n",
    "# Exercise 44\n",
    "```\n",
    "\n",
    "---\n",
    "\n"
   ]
  },
  {
   "cell_type": "code",
   "execution_count": null,
   "metadata": {},
   "outputs": [],
   "source": [
    "### Exercise 45:\n",
    "Create a structured NumPy array with fields for `name`, `age`, and `height`.\n",
    "\n",
    "```python\n",
    "# Exercise 45\n",
    "```\n",
    "\n",
    "---\n",
    "\n",
    "### Exercise 46:\n",
    "Create a 5x5 matrix of random integers and count the occurrences of each unique value.\n",
    "\n",
    "```python\n",
    "# Exercise 46\n",
    "```\n",
    "\n",
    "---\n",
    "\n",
    "### Exercise 47:\n",
    "Generate a random 3x3 NumPy array and subtract the mean of each row from the corresponding row.\n",
    "\n",
    "```python\n",
    "# Exercise 47\n",
    "```\n",
    "\n",
    "---\n",
    "\n",
    "### Exercise 48:\n",
    "Create a NumPy array of random integers and check if any of the values are greater than 50.\n",
    "\n",
    "```python\n",
    "# Exercise 48\n",
    "```\n",
    "\n",
    "---\n",
    "\n",
    "### Exercise 49:\n",
    "Calculate the moving average of a 1D NumPy array.\n",
    "\n",
    "```python\n",
    "# Exercise 49\n",
    "```\n",
    "\n",
    "---\n",
    "\n",
    "### Exercise 50:\n",
    "Find the Pearson correlation coefficient between two NumPy arrays.\n",
    "\n",
    "```python\n",
    "# Exercise 50\n",
    "```\n",
    "\n",
    "---\n",
    "\n",
    "### Exercise 51:\n",
    "Convert a NumPy array of radians to degrees.\n",
    "\n",
    "```python\n",
    "# Exercise 51\n",
    "```\n",
    "\n",
    "---\n",
    "\n",
    "### Exercise 52:\n",
    "Create a random NumPy array and compute its variance and standard deviation.\n",
    "\n",
    "```python\n",
    "# Exercise 52\n",
    "```\n",
    "\n",
    "---\n",
    "\n",
    "### Exercise 53:\n",
    "Create a 2D NumPy array and find the indices of the maximum values along each axis.\n",
    "\n",
    "```python\n",
    "# Exercise 53\n",
    "```\n",
    "\n",
    "---\n",
    "\n",
    "### Exercise 54:\n",
    "Compute the inverse of a 2x2 NumPy matrix.\n",
    "\n",
    "```python\n",
    "# Exercise 54\n",
    "```\n",
    "\n",
    "---\n",
    "\n",
    "### Exercise 55:\n",
    "Create a NumPy array of 10 random values and standardize it (mean 0, variance 1).\n",
    "\n",
    "```python\n",
    "# Exercise 55\n",
    "```\n",
    "\n",
    "---\n",
    "\n",
    "### Exercise 56:\n",
    "Perform element-wise addition and subtraction on two NumPy arrays.\n",
    "\n",
    "```python\n",
    "# Exercise 56\n",
    "```\n",
    "\n",
    "---\n",
    "\n",
    "### Exercise 57:\n",
    "Create a NumPy array of random values and find the maximum element's index.\n",
    "\n",
    "```python\n",
    "# Exercise 57\n",
    "```\n",
    "\n",
    "---\n",
    "\n",
    "### Exercise 58:\n",
    "Create a 3x3 NumPy array and rotate it by 90 degrees.\n",
    "\n",
    "```python\n",
    "# Exercise 58\n",
    "```\n",
    "\n",
    "---\n",
    "\n",
    "### Exercise 59:\n",
    "Compute the Frobenius norm of a matrix.\n",
    "\n",
    "```python\n",
    "# Exercise 59\n",
    "```\n",
    "\n",
    "---\n",
    "\n",
    "### Exercise 60:\n",
    "Create a 3D NumPy array and slice out a subarray.\n",
    "\n",
    "```python\n",
    "# Exercise 60\n",
    "```\n",
    "\n",
    "---\n"
   ]
  },
  {
   "cell_type": "code",
   "execution_count": null,
   "metadata": {},
   "outputs": [],
   "source": [
    "Create a structured NumPy array with fields for `name`, `age`, and `height`.\n",
    "\n",
    "```python\n",
    "# Exercise 45\n",
    "```\n",
    "\n",
    "---\n",
    "\n",
    "### Exercise 46:\n",
    "Create a 5x5 matrix of random integers and count the occurrences of each unique value.\n",
    "\n",
    "```python\n",
    "# Exercise 46\n",
    "```\n",
    "\n",
    "---\n",
    "\n",
    "### Exercise 47:\n",
    "Generate a random 3x3 NumPy array and subtract the mean of each row from the corresponding row.\n",
    "\n",
    "```python\n",
    "# Exercise 47\n",
    "```\n",
    "\n",
    "---\n",
    "\n",
    "### Exercise 48:\n",
    "Create a NumPy array of random integers and check if any of the values are greater than 50.\n",
    "\n",
    "```python\n",
    "# Exercise 48\n",
    "```\n",
    "\n",
    "---\n",
    "\n",
    "### Exercise 49:\n",
    "Calculate the moving average of a 1D NumPy array.\n",
    "\n",
    "```python\n",
    "# Exercise 49\n",
    "```\n",
    "\n",
    "---\n",
    "\n",
    "### Exercise 50:\n",
    "Find the Pearson correlation coefficient between two NumPy arrays.\n",
    "\n",
    "```python\n",
    "# Exercise 50\n",
    "```\n",
    "\n",
    "---\n",
    "\n",
    "### Exercise 51:\n",
    "Convert a NumPy array of radians to degrees.\n",
    "\n",
    "```python\n",
    "# Exercise 51\n",
    "```\n",
    "\n",
    "---\n",
    "\n",
    "### Exercise 52:\n",
    "Create a random NumPy array and compute its variance and standard deviation.\n",
    "\n",
    "```python\n",
    "# Exercise 52\n",
    "```\n",
    "\n",
    "---\n",
    "\n",
    "### Exercise 53:\n",
    "Create a 2D NumPy array and find the indices of the maximum values along each axis.\n",
    "\n",
    "```python\n",
    "# Exercise 53\n",
    "```\n",
    "\n",
    "---\n",
    "\n",
    "### Exercise 54:\n",
    "Compute the inverse of a 2x2 NumPy matrix.\n",
    "\n",
    "```python\n",
    "# Exercise 54\n",
    "```\n",
    "\n",
    "---\n",
    "\n",
    "### Exercise 55:\n",
    "Create a NumPy array of 10 random values and standardize it (mean 0, variance 1).\n",
    "\n",
    "```python\n",
    "# Exercise 55\n",
    "```\n",
    "\n",
    "---\n",
    "\n",
    "### Exercise 56:\n",
    "Perform element-wise addition and subtraction on two NumPy arrays.\n",
    "\n",
    "```python\n",
    "# Exercise 56\n",
    "```\n",
    "\n",
    "---\n",
    "\n",
    "### Exercise 57:\n",
    "Create a NumPy array of random values and find the maximum element's index.\n",
    "\n",
    "```python\n",
    "# Exercise 57\n",
    "```\n",
    "\n",
    "---\n",
    "\n",
    "### Exercise 58:\n",
    "Create a 3x3 NumPy array and rotate it by 90 degrees.\n",
    "\n",
    "```python\n",
    "# Exercise 58\n",
    "```\n",
    "\n",
    "---\n",
    "\n",
    "### Exercise 59:\n",
    "Compute the Frobenius norm of a matrix.\n",
    "\n",
    "```python\n",
    "# Exercise 59\n",
    "```\n",
    "\n",
    "---\n",
    "\n",
    "### Exercise 60:\n",
    "Create a 3D NumPy array and slice out a subarray.\n",
    "\n",
    "```python\n",
    "# Exercise 60\n",
    "```\n",
    "\n",
    "---\n"
   ]
  },
  {
   "cell_type": "code",
   "execution_count": null,
   "metadata": {},
   "outputs": [],
   "source": [
    "Solve a system of linear equations using NumPy.\n",
    "\n",
    "```python\n",
    "# Exercise 38\n",
    "```\n",
    "\n",
    "---\n",
    "\n",
    "### Exercise 39:\n",
    "Add Gaussian noise to a NumPy array.\n",
    "\n",
    "```python\n",
    "# Exercise 39\n",
    "```\n",
    "\n",
    "---\n",
    "\n",
    "### Exercise 40:\n",
    "Create a 4x4 matrix and extract the diagonal elements.\n",
    "\n",
    "```python\n",
    "# Exercise 40\n",
    "```\n",
    "\n",
    "---\n",
    "\n",
    "### Exercise 41:\n",
    "Generate a NumPy array of 100 random values and clip the values to a range between 10 and 50.\n",
    "\n",
    "```python\n",
    "# Exercise 41\n",
    "```\n",
    "\n",
    "---\n",
    "\n",
    "### Exercise 42:\n",
    "Create a 2D NumPy array and replace all negative values with zero.\n",
    "\n",
    "```python\n",
    "# Exercise 42\n",
    "```\n",
    "\n",
    "---\n",
    "\n",
    "### Exercise 43:\n",
    "Find the inner and outer products of two NumPy arrays.\n",
    "\n",
    "```python\n",
    "# Exercise 43\n",
    "```\n",
    "\n",
    "---\n",
    "\n",
    "### Exercise 44:\n",
    "Calculate the pairwise distances between points in a NumPy array.\n",
    "\n",
    "```python\n",
    "# Exercise 44\n",
    "```\n",
    "\n",
    "---\n",
    "\n",
    "### Exercise 45:\n",
    "Create a structured NumPy array with fields for `name`, `age`, and `height`.\n",
    "\n",
    "```python\n",
    "# Exercise 45\n",
    "```\n",
    "\n",
    "---\n",
    "\n",
    "### Exercise 46:\n",
    "Create a 5x5 matrix of random integers and count the occurrences of each unique value.\n",
    "\n",
    "```python\n",
    "# Exercise 46\n",
    "```\n",
    "\n",
    "---\n",
    "\n",
    "### Exercise 47:\n",
    "Generate a random 3x3 NumPy array and subtract the mean of each row from the corresponding row.\n",
    "\n",
    "```python\n",
    "# Exercise 47\n",
    "```\n",
    "\n",
    "---\n",
    "\n",
    "### Exercise 48:\n",
    "Create a NumPy array of random integers and check if any of the values are greater than 50.\n",
    "\n",
    "```python\n",
    "# Exercise 48\n",
    "```\n",
    "\n",
    "---\n",
    "\n",
    "### Exercise 49:\n",
    "Calculate the moving average of a 1D NumPy array.\n",
    "\n",
    "```python\n",
    "# Exercise 49\n",
    "```\n",
    "\n",
    "---\n",
    "\n",
    "### Exercise 50:\n",
    "Find the Pearson correlation coefficient between two NumPy arrays.\n",
    "\n",
    "```python\n",
    "# Exercise 50\n",
    "```\n",
    "\n",
    "---\n",
    "\n",
    "### Exercise 51:\n",
    "Convert a NumPy array of radians to degrees.\n",
    "\n",
    "```python\n",
    "# Exercise 51\n",
    "```\n",
    "\n",
    "---\n",
    "\n",
    "### Exercise 52:\n",
    "Create a random NumPy array and compute its variance and standard deviation.\n",
    "\n",
    "```python\n",
    "# Exercise 52\n",
    "```\n",
    "\n",
    "---\n",
    "\n",
    "### Exercise 53:\n",
    "Create a 2D NumPy array and find the indices of the maximum values along each axis.\n",
    "\n",
    "```python\n",
    "# Exercise 53\n",
    "```\n",
    "\n",
    "---\n",
    "\n",
    "### Exercise 54:\n",
    "Compute the inverse of a 2x2 NumPy matrix.\n",
    "\n",
    "```python\n",
    "# Exercise 54\n",
    "```\n",
    "\n",
    "---\n",
    "\n",
    "### Exercise 55:\n",
    "Create a NumPy array of 10 random values and standardize it (mean 0, variance 1).\n",
    "\n",
    "```python\n",
    "# Exercise 55\n",
    "```\n",
    "\n",
    "---\n",
    "\n",
    "### Exercise 56:\n",
    "Perform element-wise addition and subtraction on two NumPy arrays.\n",
    "\n",
    "```python\n",
    "# Exercise 56\n",
    "```\n",
    "\n",
    "---\n",
    "\n",
    "### Exercise 57:\n",
    "Create a NumPy array of random values and find the maximum element's index.\n",
    "\n",
    "```python\n",
    "# Exercise 57\n",
    "```\n",
    "\n",
    "---\n",
    "\n",
    "### Exercise 58:\n",
    "Create a 3x3 NumPy array and rotate it by 90 degrees.\n",
    "\n",
    "```python\n",
    "# Exercise 58\n",
    "```\n",
    "\n",
    "---\n",
    "\n",
    "### Exercise 59:\n",
    "Compute the Frobenius norm of a matrix.\n",
    "\n",
    "```python\n",
    "# Exercise 59\n",
    "```\n",
    "\n",
    "---\n",
    "\n",
    "### Exercise 60:\n",
    "Create a 3D NumPy array and slice out a subarray.\n",
    "\n",
    "```python\n",
    "# Exercise 60\n",
    "```\n",
    "\n",
    "---\n"
   ]
  }
 ],
 "metadata": {
  "kernelspec": {
   "display_name": "base",
   "language": "python",
   "name": "python3"
  },
  "language_info": {
   "codemirror_mode": {
    "name": "ipython",
    "version": 3
   },
   "file_extension": ".py",
   "mimetype": "text/x-python",
   "name": "python",
   "nbconvert_exporter": "python",
   "pygments_lexer": "ipython3",
   "version": "3.11.5"
  }
 },
 "nbformat": 4,
 "nbformat_minor": 2
}
