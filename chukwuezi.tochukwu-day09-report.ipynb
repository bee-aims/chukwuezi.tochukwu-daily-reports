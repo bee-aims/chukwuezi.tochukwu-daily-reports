{
 "cells": [
  {
   "cell_type": "code",
   "execution_count": null,
   "metadata": {},
   "outputs": [],
   "source": []
  },
  {
   "cell_type": "markdown",
   "metadata": {},
   "source": [
    "\n",
    "PyPro_challenge-1.ipynb_\n",
    "PyPro: challenge 1\n",
    "This challenge is due on Sunday 29th September 2024 at 8pm.\n",
    "\n",
    "These exercises provide a wide range of challenges that test your understanding of Python's core concepts, such as control structures, data types, string manipulations, list comprehensions, and higher-order functions.\n"
   ]
  },
  {
   "cell_type": "markdown",
   "metadata": {},
   "source": [
    "# Basic Tasks\n",
    "\n",
    "    "
   ]
  },
  {
   "cell_type": "markdown",
   "metadata": {},
   "source": [
    "### [1]\n",
    "\n",
    "-Create a function find_max() that accepts two numeric inputs and returns the greater value. Avoid using the built-in max() function.\n",
    "\n",
    "    "
   ]
  },
  {
   "cell_type": "code",
   "execution_count": null,
   "metadata": {},
   "outputs": [
    {
     "name": "stdout",
     "output_type": "stream",
     "text": [
      "12\n"
     ]
    }
   ],
   "source": [
    "def find_max(a, b):\n",
    "    \"\"\"\n",
    "    This function funds the maximum value of two numbers\n",
    "\n",
    "    Input Parameters:\n",
    "    a (numeric): The first number\n",
    "    b (numeric): The second number\n",
    "\n",
    "    Output:\n",
    "    (numeric) : The maximum value of the two numbers\n",
    "    \"\"\"\n",
    "    from math import inf\n",
    "    max_value = -inf\n",
    "    for num in [a,b]:\n",
    "        if num > max_value:\n",
    "            max_value = num\n",
    "    return max_value\n",
    "\n",
    "\n",
    "print(find_max(12, -6))"
   ]
  },
  {
   "cell_type": "markdown",
   "metadata": {},
   "source": [
    "### [2] \n",
    "\n",
    "Develop a function find_max_of_three() to find the maximum among three given numbers.\n"
   ]
  },
  {
   "cell_type": "code",
   "execution_count": null,
   "metadata": {},
   "outputs": [
    {
     "name": "stdout",
     "output_type": "stream",
     "text": [
      "12\n"
     ]
    }
   ],
   "source": [
    "def find_max_of_three(a,b,c):\n",
    "    \"\"\"\n",
    "    This function finds the maximum value among three numbers\n",
    "\n",
    "    Input Parameters:\n",
    "    a (numeric): The first number\n",
    "    b (numeric): The second number\n",
    "    c (numeric): The third number\n",
    "\n",
    "    Output:\n",
    "    (numeric): The maximum value\n",
    "    \"\"\"\n",
    "    from math import inf\n",
    "    max_value = -inf\n",
    "    for num in [a, b, c]:\n",
    "        if num > max_value:\n",
    "            max_value = num\n",
    "    return max_value\n",
    "\n",
    "print(find_max_of_three(12, -6, 8))"
   ]
  },
  {
   "cell_type": "markdown",
   "metadata": {},
   "source": [
    "### [2b] Optimizing the find_max function to compute for n arbitrary numbers"
   ]
  },
  {
   "cell_type": "code",
   "execution_count": null,
   "metadata": {},
   "outputs": [
    {
     "name": "stdout",
     "output_type": "stream",
     "text": [
      "(112, -6, 45, 2000, 54, 775, 27000000.0)\n",
      "27000000.0\n"
     ]
    }
   ],
   "source": [
    "def find_max_of_n(*inputs):\n",
    "    \"\"\"\n",
    "    This function finds the maximum value among any number of numbers\n",
    "\n",
    "    Input Parameters:\n",
    "    (numeric): The type of numbers to receive\n",
    "\n",
    "    Output:\n",
    "    (numeric): The maximum value\n",
    "    \"\"\"\n",
    "    print(inputs)\n",
    "    from math import inf\n",
    "    max_value = -inf\n",
    "    for num in inputs:\n",
    "        if num > max_value:\n",
    "            max_value = num\n",
    "    return max_value\n",
    "\n",
    "print(find_max_of_n(112, -6, 45, 2000, 54, 775, 27e6))\n"
   ]
  },
  {
   "cell_type": "markdown",
   "metadata": {},
   "source": [
    "\n",
    "### [3] \n",
    "Write a function to manually calculate the length of a given list or string without using len().\n"
   ]
  },
  {
   "cell_type": "code",
   "execution_count": null,
   "metadata": {},
   "outputs": [
    {
     "name": "stdout",
     "output_type": "stream",
     "text": [
      "5\n"
     ]
    }
   ],
   "source": [
    "def my_len(lst):\n",
    "    \"\"\"\n",
    "    This function calculates the length of a given list or string manually\n",
    "    \n",
    "    Input Parameters:\n",
    "    lst (list or string): The input list or string\n",
    "\n",
    "    Output:\n",
    "    (int): The length of the input list or string\n",
    "    \"\"\"\n",
    "\n",
    "    length = 0\n",
    "    for char in lst:\n",
    "        length += 1\n",
    "    return length\n",
    "\n",
    "print(my_len(\"hello\"))"
   ]
  },
  {
   "cell_type": "markdown",
   "metadata": {},
   "source": [
    "\n",
    "### [4]\n",
    " \n",
    "Implement a function that checks if a given character is a vowel (a, e, i, o, u).\n",
    "\n",
    "    "
   ]
  },
  {
   "cell_type": "code",
   "execution_count": null,
   "metadata": {},
   "outputs": [
    {
     "name": "stdout",
     "output_type": "stream",
     "text": [
      "True\n"
     ]
    }
   ],
   "source": [
    "def is_vowel(mchar):\n",
    "    \"\"\"\n",
    "    This function checks if a character is a vowel\n",
    "\n",
    "    Input Parameters:\n",
    "    mchar (character): The character to check\n",
    "\n",
    "    Output:\n",
    "    (bool): True if the character is a vowel, False otherwise\n",
    "    \"\"\"\n",
    "    vowels = ['a', 'e', 'i', 'o', 'u']\n",
    "    return mchar.lower() in vowels\n",
    "\n",
    "print(is_vowel('a'))"
   ]
  },
  {
   "cell_type": "markdown",
   "metadata": {},
   "source": [
    "### [5]\n",
    "Write a function encode() that converts a string into \"rövarspråket\" (robber's language) by doubling consonants and placing \"o\" in between, e.g., \"hello\" -> \"hohelollolo\".\n",
    "    "
   ]
  },
  {
   "cell_type": "code",
   "execution_count": null,
   "metadata": {},
   "outputs": [
    {
     "name": "stdout",
     "output_type": "stream",
     "text": [
      "hohelollolo\n"
     ]
    }
   ],
   "source": [
    "def encode(srting):\n",
    "    \"\"\"\n",
    "    This function converts a string into \"rövarspråket\"\n",
    "    It encodes it by doubling consonants and and place \"o\" in between.\n",
    "\n",
    "    Input Parameters:\n",
    "    srting (string): The string to encode\n",
    "\n",
    "    Output:\n",
    "    (string): The encoded string in \"rövarspråket\"\n",
    "    \"\"\"\n",
    "    vowels = ['a', 'e', 'i', 'o', 'u']\n",
    "    result = \"\"\n",
    "    for char in srting:\n",
    "        if char.lower() in vowels:\n",
    "            result += char\n",
    "        else:\n",
    "            result += char + \"o\" + char\n",
    "    return result\n",
    "\n",
    "print(encode(\"hello\"))"
   ]
  },
  {
   "cell_type": "markdown",
   "metadata": {},
   "source": [
    "### [6]\n",
    "\n",
    "Create sum_elements() and product_elements() functions to sum and multiply all elements in a list, respectively.\n"
   ]
  },
  {
   "cell_type": "code",
   "execution_count": null,
   "metadata": {},
   "outputs": [
    {
     "name": "stdout",
     "output_type": "stream",
     "text": [
      "Sum = 15\n",
      "Product = 120\n"
     ]
    }
   ],
   "source": [
    "def sum_elements(list):\n",
    "    \"\"\"\n",
    "    This function calculates the sum of all elements in a list\n",
    "\n",
    "    Input Parameters:\n",
    "    list (list): The list of elements\n",
    "\n",
    "    Output:\n",
    "    (float): The sum of all elements in the list\n",
    "    \"\"\"\n",
    "    sum = 0\n",
    "    for elem in list:\n",
    "        sum += elem\n",
    "    return sum\n",
    "\n",
    "def product_elements(list):\n",
    "    \"\"\"\n",
    "    This function calculates the product of all elements in a list\n",
    "\n",
    "    Input Parameters:\n",
    "    list (list): The list of elements\n",
    "    \n",
    "    Output:\n",
    "    (float): The product of all elements in the list\n",
    "    \"\"\"\n",
    "    prod = 1\n",
    "    for elem in list:\n",
    "        prod *= elem\n",
    "    return prod\n",
    "\n",
    "print(\"Sum =\", sum_elements([1, 2, 3, 4, 5]))\n",
    "\n",
    "print(\"Product =\", product_elements([1, 2, 3, 4, 5]))"
   ]
  },
  {
   "cell_type": "markdown",
   "metadata": {},
   "source": [
    "### [7]  \n",
    "  \n",
    "Define a function reverse_string() to reverse the characters in a given string.\n",
    "\n"
   ]
  },
  {
   "cell_type": "code",
   "execution_count": null,
   "metadata": {},
   "outputs": [
    {
     "name": "stdout",
     "output_type": "stream",
     "text": [
      "!dlroW ,olleH\n"
     ]
    }
   ],
   "source": [
    "def reverse_string(string):\n",
    "    \"\"\"\n",
    "    This function reverses the characters in a given string\n",
    "    \n",
    "    Input Parameters:\n",
    "    string (string): The string to reverse\n",
    "\n",
    "    Output:\n",
    "    (string): The reversed string\n",
    "    \"\"\"\n",
    "\n",
    "    return string[::-1]\n",
    "\n",
    "print(reverse_string(\"Hello, World!\"))"
   ]
  },
  {
   "cell_type": "markdown",
   "metadata": {},
   "source": [
    "### [8]\n",
    "Implement check_palindrome() to verify if a string reads the same forwards and backwards, i.e. is a palindrome.\n",
    "\n"
   ]
  },
  {
   "cell_type": "code",
   "execution_count": null,
   "metadata": {},
   "outputs": [
    {
     "name": "stdout",
     "output_type": "stream",
     "text": [
      "True\n",
      "False\n",
      "True\n"
     ]
    }
   ],
   "source": [
    "def check_palindrome(str1, str2):\n",
    "    \"\"\"\n",
    "    This function checks if two strings are palindromes. Two words are palindromes if one can be determined\n",
    "    by spelling the other in reverse order.\n",
    "\n",
    "    Input Parameters:\n",
    "    str1 (string): The first string\n",
    "    str2 (string): The second string\n",
    "\n",
    "    Output:\n",
    "    (bool): True if both strings are palindromes, False otherwise\n",
    "    \"\"\"\n",
    "    truthy = []\n",
    "    str1 = str1.lower()\n",
    "    str2 = str2.lower()\n",
    "\n",
    "    for i,char in enumerate(str1):\n",
    "        if char == str2[-i-1]:\n",
    "            truthy.append(True)\n",
    "        else:\n",
    "            truthy.append(False)\n",
    "    \n",
    "    # Check the sum of truthy. If it is eqaul to the length of the string, then we're good\n",
    "    # return str1.lower() == str2.lower()[::-1] # A more efficient way.\n",
    "    return sum(truthy) == len(str1)\n",
    "\n",
    "print(check_palindrome(\"racecar\", \"racecar\"))\n",
    "\n",
    "print(check_palindrome(\"hello\", \"world\"))\n",
    "\n",
    "print(check_palindrome(\"manner\", \"rennam\"))"
   ]
  },
  {
   "cell_type": "markdown",
   "metadata": {},
   "source": [
    "### [9]\n",
    "\n",
    "Develop a function check_membership() to determine if a value exists within a list.\n"
   ]
  },
  {
   "cell_type": "code",
   "execution_count": null,
   "metadata": {},
   "outputs": [
    {
     "name": "stdout",
     "output_type": "stream",
     "text": [
      "False\n",
      "False\n"
     ]
    }
   ],
   "source": [
    "def check_membership(val, lst):\n",
    "    for items in lst:\n",
    "        if items == val:\n",
    "            return True\n",
    "        else:\n",
    "            return False\n",
    "        \n",
    "# I will optimize this function ...\n",
    "\n",
    "\n",
    "print(check_membership(4, [1, 2, 3, 4, 5]))\n",
    "print(check_membership(6, [1, 2, 3, 4, 5]))"
   ]
  },
  {
   "cell_type": "markdown",
   "metadata": {},
   "source": [
    "### [10]\n",
    "\n",
    "Write check_overlap() to identify if two lists share any elements."
   ]
  },
  {
   "cell_type": "code",
   "execution_count": null,
   "metadata": {},
   "outputs": [
    {
     "name": "stdout",
     "output_type": "stream",
     "text": [
      "True\n"
     ]
    }
   ],
   "source": [
    "def check_overlap(list1, list2):\n",
    "    \"\"\"\n",
    "    This function identifies if two lists share any elements.\n",
    "\n",
    "    Input Parameters:\n",
    "    list1 (list): The first list\n",
    "    list2 (list): The second list\n",
    "\n",
    "    Output:\n",
    "    (bool): True if the lists share any elements, False otherwise\n",
    "    \"\"\"\n",
    "    overlaps = set()\n",
    "    for element in list1:\n",
    "        if check_membership(element, list2):\n",
    "            overlaps.add(element)\n",
    "    return len(overlaps) != 0\n",
    "\n",
    "print(check_overlap([1, 2, 3, 4, 5], [4, 5, 6, 7, 8]))"
   ]
  },
  {
   "cell_type": "markdown",
   "metadata": {},
   "source": [
    "### [11] \n",
    "\n",
    "Implement repeat_char() that generates a string with a specified character repeated n times."
   ]
  },
  {
   "cell_type": "code",
   "execution_count": null,
   "metadata": {},
   "outputs": [
    {
     "name": "stdout",
     "output_type": "stream",
     "text": [
      "aaaaa\n"
     ]
    }
   ],
   "source": [
    "def repeat_char(char, n):\n",
    "    \"\"\"\n",
    "    This function generates a string with a specified character repeated n times\n",
    "\n",
    "    Input Parameters:\n",
    "    char (character): The character to repeat\n",
    "    n (int): The number of times to repeat the character\n",
    "\n",
    "    Output:\n",
    "    (string): The string with the specified character repeated n times\n",
    "    \"\"\"\n",
    "    return char * n\n",
    "\n",
    "print(repeat_char('a', 5))"
   ]
  },
  {
   "cell_type": "markdown",
   "metadata": {},
   "source": [
    "### [12] \n",
    "\n",
    "Create a function print_histogram() that takes a list of integers and prints a corresponding histogram.\n"
   ]
  },
  {
   "cell_type": "code",
   "execution_count": null,
   "metadata": {},
   "outputs": [
    {
     "name": "stdout",
     "output_type": "stream",
     "text": [
      "[89, 78, 28, 60, 10]\n",
      "\t\n",
      "      | **********\n",
      "   10 | **********\n",
      "      | **********\n",
      "\t\n",
      "\t\n",
      "      | ****************************\n",
      "   28 | ****************************\n",
      "      | ****************************\n",
      "\t\n",
      "\t\n",
      "      | ************************************************************\n",
      "   60 | ************************************************************\n",
      "      | ************************************************************\n",
      "\t\n",
      "\t\n",
      "      | ******************************************************************************\n",
      "   78 | ******************************************************************************\n",
      "      | ******************************************************************************\n",
      "\t\n",
      "\t\n",
      "      | *****************************************************************************************\n",
      "   89 | *****************************************************************************************\n",
      "      | *****************************************************************************************\n",
      "\t\n"
     ]
    }
   ],
   "source": [
    "def print_histogram(list):\n",
    "    \"\"\"\n",
    "    This function prints a corresponding histogram based on a list of integers\n",
    "    \n",
    "    Input Parameters:\n",
    "    list (list): The list of integers\n",
    "    \n",
    "    Output:\n",
    "    (None): Prints a histogram based on the input list of integers\n",
    "    \"\"\"\n",
    "\n",
    "    list.sort()\n",
    "   \n",
    "    \n",
    "    for num in list:\n",
    "        print(\"\\t\")\n",
    "        print(f\"{'':>5} | {'*' * num}\")\n",
    "        print(f\"{num :>5} | {'*' * num}\")\n",
    "        print(f\"{'':>5} | {'*' * num}\")\n",
    "        print(\"\\t\")\n",
    "        \n",
    "from random import choice, randint\n",
    "\n",
    "text_list = [randint(10, 90) for i in range(5)]\n",
    "\n",
    "# text_list = choice(text_list, len(text_list))\n",
    "\n",
    "print(text_list)\n",
    "\n",
    "\n",
    "# print_histogram([50, 30, 80, 10, 20])\n",
    "print_histogram(text_list)"
   ]
  },
  {
   "cell_type": "markdown",
   "metadata": {},
   "source": [
    "### [13]\n",
    "\n",
    "Write find_max_in_list() to identify the largest number in a list of arbitrary length."
   ]
  },
  {
   "cell_type": "code",
   "execution_count": null,
   "metadata": {},
   "outputs": [
    {
     "name": "stdout",
     "output_type": "stream",
     "text": [
      "5000\n"
     ]
    }
   ],
   "source": [
    "def find_max_in_list(arb_list):\n",
    "    \"\"\"\n",
    "    This function identifies the largest number in a list of arbitrary length\n",
    "    \"\"\"\n",
    "\n",
    "    max_in_list = arb_list[0]\n",
    "\n",
    "    for num in arb_list:\n",
    "        if num > max_in_list:\n",
    "            max_in_list = num\n",
    "    return max_in_list\n",
    "\n",
    "print(find_max_in_list([500, 30, 5000, 10, 20]))\n"
   ]
  },
  {
   "cell_type": "markdown",
   "metadata": {},
   "source": [
    "### [14]\n",
    "\n",
    " Create a program that maps each word in a list to its length.\n",
    "\n"
   ]
  },
  {
   "cell_type": "code",
   "execution_count": null,
   "metadata": {},
   "outputs": [
    {
     "name": "stdout",
     "output_type": "stream",
     "text": [
      "{'hello': 5, 'world': 5, 'python': 6}\n"
     ]
    }
   ],
   "source": [
    "def word_mapper(lst):\n",
    "    \"\"\"\n",
    "    This function maps each word in a list to its length\n",
    "\n",
    "    Input Parameters:\n",
    "    lst (list): The list of words\n",
    "\n",
    "    Output:\n",
    "    (dict): A dictionary mapping words to their lengths\n",
    "    \"\"\"\n",
    "\n",
    "    return {word: len(word) for word in lst}\n",
    "\n",
    "print(word_mapper([\"hello\", \"world\", \"python\"]))"
   ]
  },
  {
   "cell_type": "markdown",
   "metadata": {},
   "source": [
    "### [15]\n",
    "\n",
    "Implement longest_word() to find the longest word in a list.\n",
    "\n"
   ]
  },
  {
   "cell_type": "code",
   "execution_count": null,
   "metadata": {},
   "outputs": [
    {
     "name": "stdout",
     "output_type": "stream",
     "text": [
      "Mahershalalhazbaz\n"
     ]
    }
   ],
   "source": [
    "def longest_word(lst):\n",
    "    \"\"\"\n",
    "    This function finds the longest word in a list\n",
    "\n",
    "    Input Parameters:\n",
    "    lst (list): The list of words\n",
    "\n",
    "    Output:\n",
    "    (string): The longest word\n",
    "    \"\"\"\n",
    "    max_length = len(lst[0])\n",
    "    longest_word = None\n",
    "\n",
    "    for word in lst:\n",
    "        if len(word) > max_length:\n",
    "            max_length = len(word)\n",
    "            longest_word = word\n",
    "    return longest_word\n",
    "\n",
    "print(longest_word([\"hello\", \"world\", \"python\", \"programming\", \"python\", \"civil\", \"hyppopotamus\", \"Mahershalalhazbaz\", \"dominion\"]))\n"
   ]
  },
  {
   "cell_type": "markdown",
   "metadata": {},
   "source": [
    "### [16] \n",
    "\n",
    "Develop filter_words() to return words longer than a specified length from a list.\n"
   ]
  },
  {
   "cell_type": "code",
   "execution_count": null,
   "metadata": {},
   "outputs": [
    {
     "name": "stdout",
     "output_type": "stream",
     "text": [
      "['python', 'programming', 'python', 'hyppopotamus', 'Mahershalalhazbaz', 'dominion']\n"
     ]
    }
   ],
   "source": [
    "def filter_words(lst, length):\n",
    "    \"\"\"\n",
    "    This function returns words longer than a specified length from a list\n",
    "    \n",
    "    Input Parameters:\n",
    "    lst (list): A list of words to filter\n",
    "    length (int): The maximum length of the words to include in the filtered list\n",
    "    \"\"\"\n",
    "    filtered_words = []\n",
    "\n",
    "    for word in lst:\n",
    "        if len(word) > length:\n",
    "            filtered_words.append(word)\n",
    "    \n",
    "    return filtered_words\n",
    "\n",
    "print(filter_words([\"hello\", \"world\", \"python\", \"programming\", \"python\", \"civil\", \"hyppopotamus\", \"Mahershalalhazbaz\", \"dominion\"], 5)) # Expected output: ['programming', 'civil', 'hyppopotamus', 'Mahershalalhazbaz', 'dominion']"
   ]
  },
  {
   "cell_type": "markdown",
   "metadata": {},
   "source": [
    "### [17] \n",
    "\n",
    "Enhance the palindrome recognizer to handle phrases, ignoring spaces, punctuation, and case.\n"
   ]
  },
  {
   "cell_type": "code",
   "execution_count": null,
   "metadata": {},
   "outputs": [],
   "source": [
    "def word_counter(text, word):\n",
    "    \"\"\"\n",
    "    This function counts the number of occurrences of a given word in a text.\n",
    "    \n",
    "    Input Parameters:\n",
    "    text (str): The text in which the word is to be counted\n",
    "    word (str): The word to be counted\n",
    "    \n",
    "    Output Parameters:\n",
    "    count (int): The number of occurrences of the word in the text\n",
    "    \"\"\"\n",
    "    word_count = 0\n",
    "    # Replace punctuation characters with empty strings\n",
    "    text = text.replace(\",\", \"\")\n",
    "    text = text.replace(\".\", \"\")\n",
    "    text = text.replace(\"!\", \"\")\n",
    "    text = text.replace(\"?\", \"\")\n",
    "    text = text.replace(\";\", \"\")\n",
    "    text = text.replace(\":\", \"\")\n",
    "    text = text.lower()\n",
    "\n",
    "    for elem in text.split(\" \"):\n",
    "        if elem == word.lower():\n",
    "            word_count += 1\n",
    "    \n",
    "    return word_count\n",
    "\n",
    "print(word_counter(\"There are many men, here. Men are known for being hardworking, men are compassionate men; or good men? I love being among men!\", \"men\")) # Expected output: 2\n"
   ]
  },
  {
   "cell_type": "code",
   "execution_count": null,
   "metadata": {},
   "outputs": [],
   "source": [
    "# Create a module called my_program\n"
   ]
  },
  {
   "cell_type": "markdown",
   "metadata": {},
   "source": [
    "\n",
    "    Implement a function that checks if a given sentence is a pangram.\n",
    "\n",
    "    Write a function that generates verses for the \"99 Bottles of Beer\" song.\n",
    "\n",
    "    Create a translation function using a small dictionary to translate English words into French/.\n",
    "\n",
    "    Develop char_frequency() to build a dictionary of character frequencies in a string.\n",
    "\n",
    "    Implement a Caesar cipher encoder/decoder using a shift of 13 (ROT-13).\n",
    "\n",
    "    Create fix_spaces() to correct multiple spaces and missing spaces after periods in a text.\n",
    "\n",
    "    Write convert_to_third_person() to transform verbs into their third person singular form.\n",
    "\n",
    "    Implement make_ing_form() to convert verbs into their present participle form using heuristic rules.\n",
    "\n",
    "Higher-Order Functions and List Comprehensions\n",
    "\n",
    "    Use reduce() to write max_in_list() that returns the largest number in a list.\n",
    "\n",
    "    Write a program that maps words to their lengths using a for-loop, map(), and list comprehensions.\n",
    "\n",
    "    Implement find_longest_word() using only higher-order functions.\n",
    "\n",
    "    Use filter() to write filter_long_words() that filters words longer than n.\n",
    "\n",
    "    Create translate_with_map() to translate English words to French using map().\n",
    "\n",
    "    Re-implement the higher-order functions map(), filter(), and reduce() from scratch.\n",
    "\n",
    "Simple Tasks with I/O\n",
    "\n",
    "    Write a palindrome recognizer that reads lines from a file and prints only the palindromes.\n",
    "\n",
    "    Implement a semordnilap recognizer that finds word pairs from a file where each word is the reverse of the other.\n",
    "\n",
    "    Create char_frequency_table() to display a sorted character frequency table from a file.\n",
    "\n",
    "    Write a function speak_ICAO() that translates text into the ICAO phonetic alphabet.\n",
    "\n",
    "    Implement find_hapaxes() to identify words that occur only once in a text file.\n",
    "\n",
    "    Write a program that numbers each line in a text file.\n",
    "\n",
    "    Calculate the average word length in a text file.\n",
    "\n",
    "    Implement a number-guessing game where the user guesses a number between 1 and 20.\n",
    "\n",
    "    Write a program that presents an anagram of a randomly chosen word and allows the user to guess the original.\n",
    "\n",
    "    Create a Lingo game where players guess a hidden word, receiving clues about correct and misplaced characters.\n",
    "\n",
    "Advanced Tasks\n",
    "\n",
    "    Develop a sentence splitter that separates a text into sentences based on various heuristics.\n",
    "\n",
    "    Write a program to find the largest group of anagrams in a given word list.\n",
    "\n",
    "    Generate a string of balanced brackets and verify if it is balanced.\n",
    "\n",
    "    Create a word chain game where each word starts with the last letter of the previous one, using a list of Pokemon names.\n",
    "\n",
    "Colab paid products - Cancel contracts here\n"
   ]
  }
 ],
 "metadata": {
  "language_info": {
   "name": "python"
  }
 },
 "nbformat": 4,
 "nbformat_minor": 2
}
